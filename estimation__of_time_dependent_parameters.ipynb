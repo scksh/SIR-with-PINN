{
  "cells": [
    {
      "cell_type": "code",
      "execution_count": null,
      "metadata": {
        "id": "fcLq6xQj7g6H",
        "colab": {
          "base_uri": "https://localhost:8080/"
        },
        "outputId": "feffc555-b506-4db2-a7c6-fa73e61279b2"
      },
      "outputs": [
        {
          "output_type": "stream",
          "name": "stdout",
          "text": [
            "Collecting deepxde\n",
            "  Downloading DeepXDE-1.11.1-py3-none-any.whl (182 kB)\n",
            "\u001b[2K     \u001b[90m━━━━━━━━━━━━━━━━━━━━━━━━━━━━━━━━━━━━━━━━\u001b[0m \u001b[32m182.2/182.2 kB\u001b[0m \u001b[31m1.4 MB/s\u001b[0m eta \u001b[36m0:00:00\u001b[0m\n",
            "\u001b[?25hRequirement already satisfied: matplotlib in /usr/local/lib/python3.10/dist-packages (from deepxde) (3.7.1)\n",
            "Requirement already satisfied: numpy in /usr/local/lib/python3.10/dist-packages (from deepxde) (1.25.2)\n",
            "Requirement already satisfied: scikit-learn in /usr/local/lib/python3.10/dist-packages (from deepxde) (1.2.2)\n",
            "Collecting scikit-optimize>=0.9.0 (from deepxde)\n",
            "  Downloading scikit_optimize-0.10.2-py2.py3-none-any.whl (107 kB)\n",
            "\u001b[2K     \u001b[90m━━━━━━━━━━━━━━━━━━━━━━━━━━━━━━━━━━━━━━━━\u001b[0m \u001b[32m107.8/107.8 kB\u001b[0m \u001b[31m7.3 MB/s\u001b[0m eta \u001b[36m0:00:00\u001b[0m\n",
            "\u001b[?25hRequirement already satisfied: scipy in /usr/local/lib/python3.10/dist-packages (from deepxde) (1.11.4)\n",
            "Requirement already satisfied: joblib>=0.11 in /usr/local/lib/python3.10/dist-packages (from scikit-optimize>=0.9.0->deepxde) (1.4.2)\n",
            "Collecting pyaml>=16.9 (from scikit-optimize>=0.9.0->deepxde)\n",
            "  Downloading pyaml-24.4.0-py3-none-any.whl (24 kB)\n",
            "Requirement already satisfied: packaging>=21.3 in /usr/local/lib/python3.10/dist-packages (from scikit-optimize>=0.9.0->deepxde) (24.0)\n",
            "Requirement already satisfied: threadpoolctl>=2.0.0 in /usr/local/lib/python3.10/dist-packages (from scikit-learn->deepxde) (3.5.0)\n",
            "Requirement already satisfied: contourpy>=1.0.1 in /usr/local/lib/python3.10/dist-packages (from matplotlib->deepxde) (1.2.1)\n",
            "Requirement already satisfied: cycler>=0.10 in /usr/local/lib/python3.10/dist-packages (from matplotlib->deepxde) (0.12.1)\n",
            "Requirement already satisfied: fonttools>=4.22.0 in /usr/local/lib/python3.10/dist-packages (from matplotlib->deepxde) (4.52.4)\n",
            "Requirement already satisfied: kiwisolver>=1.0.1 in /usr/local/lib/python3.10/dist-packages (from matplotlib->deepxde) (1.4.5)\n",
            "Requirement already satisfied: pillow>=6.2.0 in /usr/local/lib/python3.10/dist-packages (from matplotlib->deepxde) (9.4.0)\n",
            "Requirement already satisfied: pyparsing>=2.3.1 in /usr/local/lib/python3.10/dist-packages (from matplotlib->deepxde) (3.1.2)\n",
            "Requirement already satisfied: python-dateutil>=2.7 in /usr/local/lib/python3.10/dist-packages (from matplotlib->deepxde) (2.8.2)\n",
            "Requirement already satisfied: PyYAML in /usr/local/lib/python3.10/dist-packages (from pyaml>=16.9->scikit-optimize>=0.9.0->deepxde) (6.0.1)\n",
            "Requirement already satisfied: six>=1.5 in /usr/local/lib/python3.10/dist-packages (from python-dateutil>=2.7->matplotlib->deepxde) (1.16.0)\n",
            "Installing collected packages: pyaml, scikit-optimize, deepxde\n",
            "Successfully installed deepxde-1.11.1 pyaml-24.4.0 scikit-optimize-0.10.2\n"
          ]
        }
      ],
      "source": [
        "!pip install deepxde"
      ]
    },
    {
      "cell_type": "markdown",
      "source": [],
      "metadata": {
        "id": "bUHMJGdGS_j1"
      }
    },
    {
      "cell_type": "code",
      "execution_count": null,
      "metadata": {
        "colab": {
          "base_uri": "https://localhost:8080/"
        },
        "id": "8I6730Cv8OGi",
        "outputId": "86c331f2-a5a5-4886-dd2b-ce0b1b819264"
      },
      "outputs": [
        {
          "output_type": "stream",
          "name": "stderr",
          "text": [
            "Using backend: tensorflow.compat.v1\n",
            "Other supported backends: tensorflow, pytorch, jax, paddle.\n",
            "paddle supports more examples now and is recommended.\n",
            "WARNING:tensorflow:From /usr/local/lib/python3.10/dist-packages/tensorflow/python/compat/v2_compat.py:108: disable_resource_variables (from tensorflow.python.ops.variable_scope) is deprecated and will be removed in a future version.\n",
            "Instructions for updating:\n",
            "non-resource variables are not supported in the long term\n"
          ]
        },
        {
          "output_type": "stream",
          "name": "stdout",
          "text": [
            "No backend selected.\n",
            "Finding available backend...\n",
            "Found tensorflow.compat.v1\n",
            "Setting the default backend to \"tensorflow.compat.v1\". You can change it in the ~/.deepxde/config.json file or export the DDE_BACKEND environment variable. Valid options are: tensorflow.compat.v1, tensorflow, pytorch, jax, paddle (all lowercase)\n"
          ]
        },
        {
          "output_type": "stream",
          "name": "stderr",
          "text": [
            "Enable just-in-time compilation with XLA.\n",
            "\n"
          ]
        }
      ],
      "source": [
        "import tensorflow as tf\n",
        "import deepxde as dde\n",
        "import numpy as np\n",
        "import matplotlib.pyplot as plt\n",
        "from scipy.integrate import solve_ivp"
      ]
    },
    {
      "cell_type": "code",
      "source": [
        "# Parameters\n",
        "alpha_init = 1 / 10  # 1/평균감염기간\n",
        "beta_init = alpha_init * 5  # 초기 감염전파율\n",
        "R0_init = beta_init / alpha_init\n",
        "beta = dde.Variable(0.5)\n",
        "# alpha = dde.Variable(0.1)\n",
        "\n",
        "def beta_t(t):\n",
        "    return beta\n",
        "# def alpha_t(t):\n",
        "#   return alpha\n",
        "\n",
        "# Initial conditions\n",
        "S0 = 990\n",
        "I0 = 10\n",
        "R0 = 0\n",
        "N0 = S0 + I0 + R0\n",
        "initial_conditions = [S0, I0, R0]\n",
        "\n",
        "# Time span\n",
        "dt = 10\n",
        "t_max = 30\n",
        "t_span = (0, t_max)\n",
        "t_eval = np.linspace(0, t_max, t_max)\n",
        "\n",
        "# Define the ODE system for generating synthetic data\n",
        "def ode_system(t, u):\n",
        "    S, I, R = u\n",
        "    dS_dt = - beta_init * S * I / N0\n",
        "    dI_dt = beta_init * S * I / N0 - alpha_init * I\n",
        "    dR_dt = alpha_init * I\n",
        "    return [dS_dt, dI_dt, dR_dt]\n",
        "\n",
        "# Solve the ODE system\n",
        "solution = solve_ivp(ode_system, t_span, initial_conditions, t_eval=t_eval)\n",
        "\n",
        "# Extract the solution\n",
        "S_data = solution.y[0]\n",
        "I_data = solution.y[1]\n",
        "R_data = solution.y[2]\n",
        "data = np.stack((S_data, I_data, R_data), axis=-1)\n",
        "t_data = solution.t[:, None]  # Make sure t_data has the correct shape\n",
        "beta_pred = np.zeros_like(t_data)\n",
        "alpha_pred = np.zeros_like(t_data)"
      ],
      "metadata": {
        "id": "ys0JaYYUv6Tn"
      },
      "execution_count": null,
      "outputs": []
    },
    {
      "cell_type": "code",
      "execution_count": null,
      "metadata": {
        "colab": {
          "base_uri": "https://localhost:8080/"
        },
        "id": "Y8lTsuyRlqAc",
        "outputId": "dc96892e-2eb4-49ba-821d-60a4d43be802"
      },
      "outputs": [
        {
          "output_type": "stream",
          "name": "stdout",
          "text": [
            "Compiling model...\n",
            "Warning: For the backend tensorflow.compat.v1, `external_trainable_variables` is ignored, and all trainable ``tf.Variable`` objects are automatically collected.\n",
            "Building feed-forward neural network...\n",
            "'build' took 0.059099 s\n",
            "\n"
          ]
        },
        {
          "output_type": "stream",
          "name": "stderr",
          "text": [
            "/usr/local/lib/python3.10/dist-packages/deepxde/nn/tensorflow_compat_v1/fnn.py:116: UserWarning: `tf.layers.dense` is deprecated and will be removed in a future version. Please use `tf.keras.layers.Dense` instead.\n",
            "  return tf.layers.dense(\n"
          ]
        },
        {
          "output_type": "stream",
          "name": "stdout",
          "text": [
            "'compile' took 2.138838 s\n",
            "\n",
            "Training model...\n",
            "\n",
            "Step      Train loss                                                                                    Test loss                                                                                     Test metric\n",
            "0         [8.30e-03, 4.65e-03, 4.73e-02, 9.80e+05, 1.00e+02, 0.00e+00, 7.98e+05, 1.43e+04, 1.11e+03]    [8.70e-03, 4.72e-03, 4.91e-02, 9.80e+05, 1.00e+02, 0.00e+00, 7.98e+05, 1.43e+04, 1.11e+03]    []  \n",
            "1000      [1.89e+02, 9.35e+01, 5.53e+01, 1.17e+02, 2.57e+01, 1.07e+01, 1.72e+03, 9.89e+02, 1.20e+02]    [1.44e+02, 8.41e+01, 4.79e+01, 1.17e+02, 2.57e+01, 1.07e+01, 1.72e+03, 9.89e+02, 1.20e+02]    []  \n",
            "2000      [1.70e+02, 8.73e+01, 5.38e+01, 1.19e+02, 2.94e+01, 1.09e+01, 1.72e+03, 9.81e+02, 1.19e+02]    [1.44e+02, 7.73e+01, 4.80e+01, 1.19e+02, 2.94e+01, 1.09e+01, 1.72e+03, 9.81e+02, 1.19e+02]    []  \n",
            "3000      [1.70e+02, 8.73e+01, 5.38e+01, 1.19e+02, 2.94e+01, 1.09e+01, 1.72e+03, 9.81e+02, 1.19e+02]    [1.44e+02, 7.73e+01, 4.80e+01, 1.19e+02, 2.94e+01, 1.09e+01, 1.72e+03, 9.81e+02, 1.19e+02]    []  \n",
            "4000      [1.70e+02, 8.73e+01, 5.38e+01, 1.19e+02, 2.94e+01, 1.09e+01, 1.72e+03, 9.81e+02, 1.19e+02]    [1.44e+02, 7.73e+01, 4.80e+01, 1.19e+02, 2.94e+01, 1.09e+01, 1.72e+03, 9.81e+02, 1.19e+02]    []  \n",
            "5000      [1.71e+02, 8.73e+01, 5.38e+01, 1.18e+02, 2.94e+01, 1.09e+01, 1.72e+03, 9.81e+02, 1.19e+02]    [1.44e+02, 7.73e+01, 4.80e+01, 1.18e+02, 2.94e+01, 1.09e+01, 1.72e+03, 9.81e+02, 1.19e+02]    []  \n",
            "6000      [1.70e+02, 8.73e+01, 5.38e+01, 1.19e+02, 2.94e+01, 1.09e+01, 1.72e+03, 9.81e+02, 1.19e+02]    [1.44e+02, 7.73e+01, 4.80e+01, 1.19e+02, 2.94e+01, 1.09e+01, 1.72e+03, 9.81e+02, 1.19e+02]    []  \n",
            "7000      [1.70e+02, 8.73e+01, 5.38e+01, 1.19e+02, 2.94e+01, 1.09e+01, 1.72e+03, 9.81e+02, 1.19e+02]    [1.44e+02, 7.73e+01, 4.80e+01, 1.19e+02, 2.94e+01, 1.09e+01, 1.72e+03, 9.81e+02, 1.19e+02]    []  \n",
            "8000      [1.70e+02, 8.71e+01, 5.39e+01, 1.22e+02, 2.88e+01, 1.09e+01, 1.72e+03, 9.82e+02, 1.19e+02]    [1.43e+02, 7.71e+01, 4.80e+01, 1.22e+02, 2.88e+01, 1.09e+01, 1.72e+03, 9.82e+02, 1.19e+02]    []  \n",
            "9000      [1.70e+02, 8.73e+01, 5.38e+01, 1.19e+02, 2.94e+01, 1.09e+01, 1.72e+03, 9.81e+02, 1.19e+02]    [1.44e+02, 7.73e+01, 4.80e+01, 1.19e+02, 2.94e+01, 1.09e+01, 1.72e+03, 9.81e+02, 1.19e+02]    []  \n",
            "10000     [1.71e+02, 8.77e+01, 5.37e+01, 1.20e+02, 3.14e+01, 1.36e+01, 1.72e+03, 9.78e+02, 1.17e+02]    [1.44e+02, 7.77e+01, 4.78e+01, 1.20e+02, 3.14e+01, 1.36e+01, 1.72e+03, 9.78e+02, 1.17e+02]    []  \n",
            "\n",
            "Best model at step 9000:\n",
            "  train loss: 3.29e+03\n",
            "  test loss: 3.25e+03\n",
            "  test metric: []\n",
            "\n",
            "'train' took 30.551314 s\n",
            "\n",
            "Estimated beta: 0.2769857943058014\n",
            "Compiling model...\n",
            "Warning: For the backend tensorflow.compat.v1, `external_trainable_variables` is ignored, and all trainable ``tf.Variable`` objects are automatically collected.\n",
            "Building feed-forward neural network...\n",
            "'build' took 0.089985 s\n",
            "\n"
          ]
        },
        {
          "output_type": "stream",
          "name": "stderr",
          "text": [
            "/usr/local/lib/python3.10/dist-packages/deepxde/nn/tensorflow_compat_v1/fnn.py:116: UserWarning: `tf.layers.dense` is deprecated and will be removed in a future version. Please use `tf.keras.layers.Dense` instead.\n",
            "  return tf.layers.dense(\n"
          ]
        },
        {
          "output_type": "stream",
          "name": "stdout",
          "text": [
            "'compile' took 2.718165 s\n",
            "\n",
            "Training model...\n",
            "\n",
            "Step      Train loss                                                                                    Test loss                                                                                     Test metric\n",
            "0         [7.29e-03, 1.45e-02, 3.23e-02, 9.80e+05, 1.00e+02, 0.00e+00, 7.97e+05, 1.44e+04, 1.13e+03]    [7.64e-03, 1.47e-02, 3.31e-02, 9.80e+05, 1.00e+02, 0.00e+00, 7.97e+05, 1.44e+04, 1.13e+03]    []  \n",
            "1000      [5.08e+02, 7.11e+01, 3.33e+01, 4.67e-01, 2.14e+00, 6.40e-02, 2.60e+02, 1.16e+03, 1.90e+01]    [3.93e+02, 5.83e+01, 2.48e+01, 4.67e-01, 2.14e+00, 6.40e-02, 2.60e+02, 1.16e+03, 1.90e+01]    []  \n",
            "2000      [1.82e+02, 1.45e+02, 4.99e+01, 4.22e-01, 1.52e-01, 2.43e-03, 1.88e+02, 1.27e+02, 1.81e+01]    [1.78e+02, 1.23e+02, 3.79e+01, 4.22e-01, 1.52e-01, 2.43e-03, 1.88e+02, 1.27e+02, 1.81e+01]    []  \n",
            "3000      [1.71e+02, 1.20e+02, 2.53e+01, 4.90e-03, 2.31e-02, 1.78e-02, 1.83e+02, 1.20e+02, 1.80e+01]    [1.72e+02, 1.08e+02, 2.28e+01, 4.91e-03, 2.31e-02, 1.78e-02, 1.83e+02, 1.20e+02, 1.80e+01]    []  \n",
            "4000      [1.83e+02, 1.24e+02, 2.63e+01, 1.89e+00, 3.83e-02, 1.87e-02, 2.02e+02, 1.26e+02, 1.80e+01]    [1.74e+02, 1.06e+02, 2.33e+01, 1.89e+00, 3.83e-02, 1.87e-02, 2.02e+02, 1.26e+02, 1.80e+01]    []  \n",
            "5000      [1.60e+02, 8.70e+01, 1.59e+01, 1.34e-07, 1.99e-02, 5.34e-02, 1.81e+02, 1.13e+02, 1.78e+01]    [1.61e+02, 8.34e+01, 1.70e+01, 1.34e-07, 1.99e-02, 5.34e-02, 1.81e+02, 1.13e+02, 1.78e+01]    []  \n",
            "6000      [1.35e+02, 7.08e+01, 7.70e+00, 1.63e+00, 3.35e-02, 2.79e-01, 9.17e+01, 7.39e+01, 3.58e+00]    [1.39e+02, 7.24e+01, 8.27e+00, 1.63e+00, 3.35e-02, 2.79e-01, 9.17e+01, 7.39e+01, 3.58e+00]    []  \n",
            "7000      [6.66e+01, 2.94e+01, 5.11e+00, 1.73e+00, 1.08e-01, 1.73e-01, 2.92e+01, 2.52e+01, 1.53e+00]    [6.61e+01, 3.03e+01, 4.83e+00, 1.73e+00, 1.08e-01, 1.73e-01, 2.92e+01, 2.52e+01, 1.53e+00]    []  \n",
            "8000      [4.87e+01, 1.98e+01, 6.04e+00, 2.94e-01, 1.17e-01, 7.24e-02, 1.38e+01, 1.11e+01, 1.39e+00]    [4.86e+01, 2.07e+01, 5.37e+00, 2.94e-01, 1.17e-01, 7.24e-02, 1.38e+01, 1.11e+01, 1.39e+00]    []  \n",
            "9000      [1.11e+02, 5.79e+01, 2.46e+01, 1.77e-01, 1.60e-01, 2.09e+00, 3.95e+01, 5.48e+01, 4.30e+00]    [1.04e+02, 5.50e+01, 1.74e+01, 1.77e-01, 1.60e-01, 2.09e+00, 3.95e+01, 5.48e+01, 4.30e+00]    []  \n",
            "10000     [9.06e+01, 3.32e+01, 1.85e+01, 1.90e-02, 4.40e-03, 8.28e-02, 2.95e+01, 2.65e+01, 4.36e+00]    [9.13e+01, 3.44e+01, 1.47e+01, 1.89e-02, 4.41e-03, 8.28e-02, 2.95e+01, 2.65e+01, 4.36e+00]    []  \n",
            "\n",
            "Best model at step 8000:\n",
            "  train loss: 1.01e+02\n",
            "  test loss: 1.01e+02\n",
            "  test metric: []\n",
            "\n",
            "'train' took 30.748390 s\n",
            "\n",
            "Estimated beta: 0.4371524453163147\n",
            "Compiling model...\n",
            "Warning: For the backend tensorflow.compat.v1, `external_trainable_variables` is ignored, and all trainable ``tf.Variable`` objects are automatically collected.\n",
            "Building feed-forward neural network...\n",
            "'build' took 0.059897 s\n",
            "\n"
          ]
        },
        {
          "output_type": "stream",
          "name": "stderr",
          "text": [
            "/usr/local/lib/python3.10/dist-packages/deepxde/nn/tensorflow_compat_v1/fnn.py:116: UserWarning: `tf.layers.dense` is deprecated and will be removed in a future version. Please use `tf.keras.layers.Dense` instead.\n",
            "  return tf.layers.dense(\n"
          ]
        },
        {
          "output_type": "stream",
          "name": "stdout",
          "text": [
            "'compile' took 2.142257 s\n",
            "\n",
            "Training model...\n",
            "\n",
            "Step      Train loss                                                                                    Test loss                                                                                     Test metric\n",
            "0         [4.44e-03, 8.82e-01, 1.70e-01, 9.80e+05, 1.00e+02, 0.00e+00, 7.97e+05, 1.51e+04, 1.16e+03]    [4.66e-03, 8.95e-01, 1.64e-01, 9.80e+05, 1.00e+02, 0.00e+00, 7.97e+05, 1.51e+04, 1.16e+03]    []  \n",
            "1000      [1.84e+02, 9.20e+01, 5.09e+01, 1.19e+02, 2.93e+01, 1.07e+01, 1.72e+03, 9.81e+02, 1.20e+02]    [1.45e+02, 8.19e+01, 4.73e+01, 1.19e+02, 2.93e+01, 1.07e+01, 1.72e+03, 9.81e+02, 1.20e+02]    []  \n",
            "2000      [1.70e+02, 8.71e+01, 5.39e+01, 1.19e+02, 2.95e+01, 1.09e+01, 1.72e+03, 9.81e+02, 1.19e+02]    [1.44e+02, 7.74e+01, 4.80e+01, 1.19e+02, 2.95e+01, 1.09e+01, 1.72e+03, 9.81e+02, 1.19e+02]    []  \n",
            "3000      [1.71e+02, 8.73e+01, 5.40e+01, 1.14e+02, 2.94e+01, 1.08e+01, 1.73e+03, 9.81e+02, 1.20e+02]    [1.45e+02, 7.76e+01, 4.81e+01, 1.14e+02, 2.94e+01, 1.08e+01, 1.73e+03, 9.81e+02, 1.20e+02]    []  \n",
            "4000      [1.71e+02, 8.71e+01, 5.40e+01, 1.12e+02, 2.92e+01, 1.07e+01, 1.73e+03, 9.81e+02, 1.20e+02]    [1.45e+02, 7.74e+01, 4.80e+01, 1.12e+02, 2.92e+01, 1.07e+01, 1.73e+03, 9.81e+02, 1.20e+02]    []  \n",
            "5000      [1.69e+02, 8.68e+01, 5.39e+01, 1.32e+02, 2.96e+01, 1.23e+01, 1.71e+03, 9.81e+02, 1.18e+02]    [1.43e+02, 7.70e+01, 4.79e+01, 1.32e+02, 2.96e+01, 1.23e+01, 1.71e+03, 9.81e+02, 1.18e+02]    []  \n",
            "6000      [1.70e+02, 8.71e+01, 5.39e+01, 1.19e+02, 2.95e+01, 1.09e+01, 1.72e+03, 9.81e+02, 1.19e+02]    [1.44e+02, 7.74e+01, 4.80e+01, 1.19e+02, 2.95e+01, 1.09e+01, 1.72e+03, 9.81e+02, 1.19e+02]    []  \n",
            "7000      [1.70e+02, 8.69e+01, 5.39e+01, 1.29e+02, 2.95e+01, 1.28e+01, 1.71e+03, 9.81e+02, 1.18e+02]    [1.43e+02, 7.72e+01, 4.80e+01, 1.29e+02, 2.95e+01, 1.28e+01, 1.71e+03, 9.81e+02, 1.18e+02]    []  \n",
            "8000      [1.70e+02, 8.71e+01, 5.39e+01, 1.18e+02, 2.95e+01, 1.09e+01, 1.72e+03, 9.81e+02, 1.19e+02]    [1.44e+02, 7.74e+01, 4.80e+01, 1.18e+02, 2.95e+01, 1.09e+01, 1.72e+03, 9.81e+02, 1.19e+02]    []  \n",
            "9000      [1.70e+02, 8.71e+01, 5.39e+01, 1.19e+02, 2.95e+01, 1.09e+01, 1.72e+03, 9.81e+02, 1.19e+02]    [1.44e+02, 7.74e+01, 4.80e+01, 1.19e+02, 2.95e+01, 1.09e+01, 1.72e+03, 9.81e+02, 1.19e+02]    []  \n",
            "10000     [1.70e+02, 8.72e+01, 5.39e+01, 1.18e+02, 2.96e+01, 1.09e+01, 1.72e+03, 9.81e+02, 1.19e+02]    [1.44e+02, 7.74e+01, 4.80e+01, 1.18e+02, 2.96e+01, 1.09e+01, 1.72e+03, 9.81e+02, 1.19e+02]    []  \n",
            "\n",
            "Best model at step 9000:\n",
            "  train loss: 3.29e+03\n",
            "  test loss: 3.25e+03\n",
            "  test metric: []\n",
            "\n",
            "'train' took 31.751741 s\n",
            "\n",
            "Estimated beta: 0.2769010066986084\n",
            "Compiling model...\n",
            "Warning: For the backend tensorflow.compat.v1, `external_trainable_variables` is ignored, and all trainable ``tf.Variable`` objects are automatically collected.\n",
            "Building feed-forward neural network...\n",
            "'build' took 0.054940 s\n",
            "\n"
          ]
        },
        {
          "output_type": "stream",
          "name": "stderr",
          "text": [
            "/usr/local/lib/python3.10/dist-packages/deepxde/nn/tensorflow_compat_v1/fnn.py:116: UserWarning: `tf.layers.dense` is deprecated and will be removed in a future version. Please use `tf.keras.layers.Dense` instead.\n",
            "  return tf.layers.dense(\n"
          ]
        },
        {
          "output_type": "stream",
          "name": "stdout",
          "text": [
            "'compile' took 2.223928 s\n",
            "\n",
            "Training model...\n",
            "\n",
            "Step      Train loss                                                                                    Test loss                                                                                     Test metric\n",
            "0         [4.91e-02, 2.09e-01, 1.04e-01, 9.80e+05, 1.00e+02, 0.00e+00, 7.96e+05, 1.39e+04, 1.23e+03]    [5.13e-02, 2.12e-01, 1.04e-01, 9.80e+05, 1.00e+02, 0.00e+00, 7.96e+05, 1.39e+04, 1.23e+03]    []  \n",
            "1000      [1.24e+02, 4.74e+01, 2.42e+01, 1.60e-02, 1.74e-04, 3.67e-03, 7.83e+01, 5.54e+01, 9.45e+00]    [1.26e+02, 5.04e+01, 2.00e+01, 1.61e-02, 1.74e-04, 3.67e-03, 7.83e+01, 5.54e+01, 9.45e+00]    []  \n",
            "2000      [1.24e+02, 4.72e+01, 2.41e+01, 3.05e-02, 5.59e-04, 1.53e-03, 7.85e+01, 5.55e+01, 9.36e+00]    [1.26e+02, 5.03e+01, 2.00e+01, 3.06e-02, 5.59e-04, 1.53e-03, 7.85e+01, 5.55e+01, 9.36e+00]    []  \n",
            "3000      [1.24e+02, 4.66e+01, 2.41e+01, 9.32e-03, 1.70e-04, 1.46e-03, 7.82e+01, 5.54e+01, 9.38e+00]    [1.26e+02, 4.99e+01, 2.00e+01, 9.32e-03, 1.70e-04, 1.46e-03, 7.82e+01, 5.54e+01, 9.38e+00]    []  \n",
            "4000      [1.23e+02, 4.60e+01, 2.41e+01, 6.23e-03, 1.52e-04, 2.56e-04, 7.80e+01, 5.53e+01, 9.31e+00]    [1.25e+02, 4.91e+01, 2.00e+01, 6.23e-03, 1.52e-04, 2.56e-04, 7.80e+01, 5.53e+01, 9.31e+00]    []  \n",
            "5000      [1.21e+02, 4.52e+01, 2.40e+01, 2.34e-03, 1.20e-03, 2.15e-06, 7.72e+01, 5.47e+01, 9.21e+00]    [1.24e+02, 4.84e+01, 1.99e+01, 2.34e-03, 1.21e-03, 2.16e-06, 7.72e+01, 5.47e+01, 9.21e+00]    []  \n",
            "6000      [1.14e+02, 4.22e+01, 2.33e+01, 4.75e-02, 1.52e-02, 2.46e-03, 7.53e+01, 5.30e+01, 9.01e+00]    [1.16e+02, 4.48e+01, 1.92e+01, 4.74e-02, 1.52e-02, 2.46e-03, 7.53e+01, 5.30e+01, 9.01e+00]    []  \n",
            "7000      [1.13e+02, 4.14e+01, 2.31e+01, 5.93e-04, 1.07e-02, 3.23e-04, 7.41e+01, 5.27e+01, 8.89e+00]    [1.13e+02, 4.38e+01, 1.90e+01, 5.96e-04, 1.07e-02, 3.23e-04, 7.41e+01, 5.27e+01, 8.89e+00]    []  \n",
            "8000      [1.12e+02, 4.10e+01, 2.30e+01, 1.53e-05, 1.00e-02, 5.67e-04, 7.39e+01, 5.25e+01, 8.87e+00]    [1.13e+02, 4.37e+01, 1.89e+01, 1.48e-05, 1.00e-02, 5.67e-04, 7.39e+01, 5.25e+01, 8.87e+00]    []  \n",
            "9000      [1.12e+02, 4.09e+01, 2.30e+01, 7.95e-04, 1.16e-02, 1.58e-04, 7.39e+01, 5.25e+01, 8.87e+00]    [1.12e+02, 4.32e+01, 1.89e+01, 8.02e-04, 1.16e-02, 1.58e-04, 7.39e+01, 5.25e+01, 8.87e+00]    []  \n",
            "10000     [1.12e+02, 4.10e+01, 2.30e+01, 8.78e-02, 3.04e-02, 4.45e-03, 7.51e+01, 5.27e+01, 8.97e+00]    [1.13e+02, 4.35e+01, 1.90e+01, 8.78e-02, 3.04e-02, 4.45e-03, 7.51e+01, 5.27e+01, 8.97e+00]    []  \n",
            "\n",
            "Best model at step 9000:\n",
            "  train loss: 3.11e+02\n",
            "  test loss: 3.10e+02\n",
            "  test metric: []\n",
            "\n",
            "'train' took 30.086894 s\n",
            "\n",
            "Estimated beta: 0.42118293046951294\n",
            "Compiling model...\n",
            "Warning: For the backend tensorflow.compat.v1, `external_trainable_variables` is ignored, and all trainable ``tf.Variable`` objects are automatically collected.\n",
            "Building feed-forward neural network...\n",
            "'build' took 0.057954 s\n",
            "\n"
          ]
        },
        {
          "output_type": "stream",
          "name": "stderr",
          "text": [
            "/usr/local/lib/python3.10/dist-packages/deepxde/nn/tensorflow_compat_v1/fnn.py:116: UserWarning: `tf.layers.dense` is deprecated and will be removed in a future version. Please use `tf.keras.layers.Dense` instead.\n",
            "  return tf.layers.dense(\n"
          ]
        },
        {
          "output_type": "stream",
          "name": "stdout",
          "text": [
            "'compile' took 2.234420 s\n",
            "\n",
            "Training model...\n",
            "\n",
            "Step      Train loss                                                                                    Test loss                                                                                     Test metric\n",
            "0         [1.76e-03, 7.19e-01, 4.75e-01, 9.80e+05, 1.00e+02, 0.00e+00, 7.98e+05, 1.36e+04, 1.32e+03]    [1.84e-03, 7.28e-01, 4.77e-01, 9.80e+05, 1.00e+02, 0.00e+00, 7.98e+05, 1.36e+04, 1.32e+03]    []  \n",
            "1000      [2.16e+02, 1.18e+02, 6.35e+01, 1.19e+02, 2.84e+01, 1.06e+01, 1.72e+03, 9.83e+02, 1.20e+02]    [1.62e+02, 1.01e+02, 5.34e+01, 1.19e+02, 2.84e+01, 1.06e+01, 1.72e+03, 9.83e+02, 1.20e+02]    []  \n",
            "2000      [2.21e+02, 1.25e+02, 5.73e+01, 1.22e+02, 3.04e+01, 1.09e+01, 1.72e+03, 9.80e+02, 1.19e+02]    [1.74e+02, 1.10e+02, 5.02e+01, 1.22e+02, 3.04e+01, 1.09e+01, 1.72e+03, 9.80e+02, 1.19e+02]    []  \n",
            "3000      [2.08e+02, 1.21e+02, 4.42e+01, 1.24e+02, 2.94e+01, 1.05e+01, 1.72e+03, 9.80e+02, 1.20e+02]    [1.66e+02, 1.06e+02, 4.27e+01, 1.24e+02, 2.94e+01, 1.05e+01, 1.72e+03, 9.80e+02, 1.20e+02]    []  \n",
            "4000      [1.90e+02, 1.09e+02, 3.70e+01, 1.12e+02, 2.23e+01, 8.28e+00, 1.73e+03, 9.94e+02, 1.22e+02]    [1.54e+02, 9.57e+01, 3.84e+01, 1.12e+02, 2.23e+01, 8.28e+00, 1.73e+03, 9.94e+02, 1.22e+02]    []  \n",
            "5000      [1.83e+02, 1.04e+02, 3.54e+01, 1.04e+02, 2.86e+01, 1.04e+01, 1.74e+03, 9.85e+02, 1.18e+02]    [1.52e+02, 9.20e+01, 3.72e+01, 1.04e+02, 2.86e+01, 1.04e+01, 1.74e+03, 9.85e+02, 1.18e+02]    []  \n",
            "6000      [1.74e+02, 9.76e+01, 3.65e+01, 9.93e+01, 3.09e+01, 9.78e+00, 1.75e+03, 9.77e+02, 1.20e+02]    [1.47e+02, 8.66e+01, 3.83e+01, 9.93e+01, 3.09e+01, 9.78e+00, 1.75e+03, 9.77e+02, 1.20e+02]    []  \n",
            "7000      [1.43e+02, 6.42e+01, 1.36e+01, 4.85e-03, 2.23e-01, 3.86e-05, 9.40e+01, 6.13e+01, 1.01e+01]    [1.45e+02, 6.44e+01, 1.46e+01, 4.85e-03, 2.23e-01, 3.83e-05, 9.40e+01, 6.13e+01, 1.01e+01]    []  \n",
            "8000      [8.86e+01, 3.97e+01, 1.02e+01, 2.25e-01, 7.43e-02, 1.33e-02, 4.76e+01, 4.30e+01, 4.09e+00]    [9.02e+01, 4.14e+01, 1.00e+01, 2.25e-01, 7.43e-02, 1.33e-02, 4.76e+01, 4.30e+01, 4.09e+00]    []  \n",
            "9000      [7.04e+01, 2.66e+01, 1.41e+01, 7.17e-01, 1.94e-01, 2.28e-01, 2.74e+01, 1.67e+01, 3.03e+00]    [7.10e+01, 2.79e+01, 1.11e+01, 7.17e-01, 1.94e-01, 2.28e-01, 2.74e+01, 1.67e+01, 3.03e+00]    []  \n",
            "10000     [7.07e+01, 2.77e+01, 1.36e+01, 1.08e+00, 4.03e-01, 3.36e-01, 1.91e+01, 1.47e+01, 2.52e+00]    [7.07e+01, 2.90e+01, 1.08e+01, 1.08e+00, 4.03e-01, 3.36e-01, 1.91e+01, 1.47e+01, 2.52e+00]    []  \n",
            "\n",
            "Best model at step 10000:\n",
            "  train loss: 1.50e+02\n",
            "  test loss: 1.49e+02\n",
            "  test metric: []\n",
            "\n",
            "'train' took 30.986272 s\n",
            "\n",
            "Estimated beta: 0.4529900550842285\n",
            "Compiling model...\n",
            "Warning: For the backend tensorflow.compat.v1, `external_trainable_variables` is ignored, and all trainable ``tf.Variable`` objects are automatically collected.\n",
            "Building feed-forward neural network...\n",
            "'build' took 0.057988 s\n",
            "\n"
          ]
        },
        {
          "output_type": "stream",
          "name": "stderr",
          "text": [
            "/usr/local/lib/python3.10/dist-packages/deepxde/nn/tensorflow_compat_v1/fnn.py:116: UserWarning: `tf.layers.dense` is deprecated and will be removed in a future version. Please use `tf.keras.layers.Dense` instead.\n",
            "  return tf.layers.dense(\n"
          ]
        },
        {
          "output_type": "stream",
          "name": "stdout",
          "text": [
            "'compile' took 2.249132 s\n",
            "\n",
            "Training model...\n",
            "\n",
            "Step      Train loss                                                                                    Test loss                                                                                     Test metric\n",
            "0         [1.84e-01, 6.51e-05, 1.07e-01, 9.80e+05, 1.00e+02, 0.00e+00, 8.01e+05, 1.43e+04, 1.06e+03]    [1.93e-01, 6.61e-05, 1.12e-01, 9.80e+05, 1.00e+02, 0.00e+00, 8.01e+05, 1.43e+04, 1.06e+03]    []  \n",
            "1000      [1.69e+02, 8.85e+01, 5.35e+01, 1.19e+02, 2.93e+01, 1.08e+01, 1.72e+03, 9.82e+02, 1.19e+02]    [1.42e+02, 7.84e+01, 4.78e+01, 1.19e+02, 2.93e+01, 1.08e+01, 1.72e+03, 9.82e+02, 1.19e+02]    []  \n",
            "2000      [1.71e+02, 8.75e+01, 5.37e+01, 1.19e+02, 2.93e+01, 1.09e+01, 1.72e+03, 9.81e+02, 1.19e+02]    [1.44e+02, 7.72e+01, 4.80e+01, 1.19e+02, 2.93e+01, 1.09e+01, 1.72e+03, 9.81e+02, 1.19e+02]    []  \n",
            "3000      [1.71e+02, 8.75e+01, 5.37e+01, 1.19e+02, 2.93e+01, 1.09e+01, 1.72e+03, 9.81e+02, 1.19e+02]    [1.44e+02, 7.72e+01, 4.80e+01, 1.19e+02, 2.93e+01, 1.09e+01, 1.72e+03, 9.81e+02, 1.19e+02]    []  \n",
            "4000      [1.71e+02, 8.75e+01, 5.37e+01, 1.19e+02, 2.93e+01, 1.09e+01, 1.72e+03, 9.81e+02, 1.19e+02]    [1.44e+02, 7.72e+01, 4.80e+01, 1.19e+02, 2.93e+01, 1.09e+01, 1.72e+03, 9.81e+02, 1.19e+02]    []  \n",
            "5000      [1.71e+02, 8.75e+01, 5.37e+01, 1.18e+02, 2.93e+01, 1.08e+01, 1.72e+03, 9.81e+02, 1.19e+02]    [1.44e+02, 7.73e+01, 4.80e+01, 1.18e+02, 2.93e+01, 1.08e+01, 1.72e+03, 9.81e+02, 1.19e+02]    []  \n",
            "6000      [1.71e+02, 8.75e+01, 5.38e+01, 1.13e+02, 2.94e+01, 1.05e+01, 1.73e+03, 9.81e+02, 1.20e+02]    [1.44e+02, 7.73e+01, 4.80e+01, 1.13e+02, 2.94e+01, 1.05e+01, 1.73e+03, 9.81e+02, 1.20e+02]    []  \n",
            "7000      [1.71e+02, 8.75e+01, 5.37e+01, 1.20e+02, 2.93e+01, 1.10e+01, 1.72e+03, 9.81e+02, 1.19e+02]    [1.44e+02, 7.72e+01, 4.80e+01, 1.20e+02, 2.93e+01, 1.10e+01, 1.72e+03, 9.81e+02, 1.19e+02]    []  \n",
            "8000      [1.72e+02, 8.84e+01, 5.35e+01, 9.46e+01, 3.07e+01, 1.48e+01, 1.75e+03, 9.79e+02, 1.16e+02]    [1.45e+02, 7.82e+01, 4.78e+01, 9.46e+01, 3.07e+01, 1.48e+01, 1.75e+03, 9.79e+02, 1.16e+02]    []  \n",
            "9000      [1.71e+02, 8.75e+01, 5.37e+01, 1.19e+02, 2.93e+01, 1.09e+01, 1.72e+03, 9.81e+02, 1.19e+02]    [1.44e+02, 7.72e+01, 4.80e+01, 1.19e+02, 2.93e+01, 1.09e+01, 1.72e+03, 9.81e+02, 1.19e+02]    []  \n",
            "10000     [1.69e+02, 8.58e+01, 5.39e+01, 1.73e+02, 2.57e+01, 1.31e+01, 1.69e+03, 9.86e+02, 1.17e+02]    [1.42e+02, 7.54e+01, 4.82e+01, 1.73e+02, 2.57e+01, 1.31e+01, 1.69e+03, 9.86e+02, 1.17e+02]    []  \n",
            "\n",
            "Best model at step 4000:\n",
            "  train loss: 3.29e+03\n",
            "  test loss: 3.25e+03\n",
            "  test metric: []\n",
            "\n",
            "'train' took 31.557932 s\n",
            "\n",
            "Estimated beta: 0.2775978446006775\n",
            "Compiling model...\n",
            "Warning: For the backend tensorflow.compat.v1, `external_trainable_variables` is ignored, and all trainable ``tf.Variable`` objects are automatically collected.\n",
            "Building feed-forward neural network...\n",
            "'build' took 0.054452 s\n",
            "\n"
          ]
        },
        {
          "output_type": "stream",
          "name": "stderr",
          "text": [
            "/usr/local/lib/python3.10/dist-packages/deepxde/nn/tensorflow_compat_v1/fnn.py:116: UserWarning: `tf.layers.dense` is deprecated and will be removed in a future version. Please use `tf.keras.layers.Dense` instead.\n",
            "  return tf.layers.dense(\n"
          ]
        },
        {
          "output_type": "stream",
          "name": "stdout",
          "text": [
            "'compile' took 6.673083 s\n",
            "\n",
            "Training model...\n",
            "\n",
            "Step      Train loss                                                                                    Test loss                                                                                     Test metric\n",
            "0         [2.03e-02, 1.59e-01, 8.35e-02, 9.80e+05, 1.00e+02, 0.00e+00, 7.98e+05, 1.46e+04, 1.13e+03]    [2.13e-02, 1.61e-01, 8.35e-02, 9.80e+05, 1.00e+02, 0.00e+00, 7.98e+05, 1.46e+04, 1.13e+03]    []  \n",
            "1000      [2.83e+02, 1.22e+02, 5.50e+01, 1.07e-01, 3.72e+00, 5.71e-01, 3.71e+02, 2.04e+02, 3.47e+01]    [2.52e+02, 1.22e+02, 4.18e+01, 1.07e-01, 3.72e+00, 5.71e-01, 3.71e+02, 2.04e+02, 3.47e+01]    []  \n",
            "2000      [6.90e+01, 2.77e+01, 1.37e+01, 4.07e-02, 2.41e-02, 2.51e-01, 1.28e+01, 1.33e+01, 3.97e+00]    [6.92e+01, 2.89e+01, 1.09e+01, 4.07e-02, 2.41e-02, 2.51e-01, 1.28e+01, 1.33e+01, 3.97e+00]    []  \n",
            "3000      [7.04e+01, 2.71e+01, 1.37e+01, 1.34e-02, 9.74e-07, 6.85e-04, 1.74e+01, 1.52e+01, 2.65e+00]    [7.04e+01, 2.83e+01, 1.09e+01, 1.34e-02, 9.52e-07, 6.84e-04, 1.74e+01, 1.52e+01, 2.65e+00]    []  \n",
            "4000      [7.04e+01, 2.71e+01, 1.37e+01, 4.58e-02, 2.22e-04, 3.10e-03, 1.62e+01, 1.46e+01, 2.41e+00]    [7.07e+01, 2.83e+01, 1.09e+01, 4.58e-02, 2.22e-04, 3.10e-03, 1.62e+01, 1.46e+01, 2.41e+00]    []  \n",
            "5000      [7.05e+01, 2.71e+01, 1.37e+01, 1.92e-02, 5.76e-04, 1.08e-03, 1.65e+01, 1.47e+01, 2.45e+00]    [7.07e+01, 2.84e+01, 1.09e+01, 1.92e-02, 5.77e-04, 1.08e-03, 1.65e+01, 1.47e+01, 2.45e+00]    []  \n",
            "6000      [7.04e+01, 2.71e+01, 1.37e+01, 4.55e-02, 2.48e-04, 3.46e-03, 1.62e+01, 1.46e+01, 2.41e+00]    [7.07e+01, 2.83e+01, 1.09e+01, 4.54e-02, 2.48e-04, 3.46e-03, 1.62e+01, 1.46e+01, 2.41e+00]    []  \n",
            "7000      [6.74e+01, 2.62e+01, 1.35e+01, 1.48e-02, 3.22e-03, 5.04e-03, 1.43e+01, 1.39e+01, 2.28e+00]    [6.74e+01, 2.73e+01, 1.08e+01, 1.48e-02, 3.22e-03, 5.03e-03, 1.43e+01, 1.39e+01, 2.28e+00]    []  \n",
            "8000      [6.36e+01, 2.38e+01, 1.32e+01, 9.88e-02, 2.45e-02, 1.39e-03, 1.36e+01, 1.25e+01, 2.22e+00]    [6.41e+01, 2.50e+01, 1.05e+01, 9.88e-02, 2.45e-02, 1.39e-03, 1.36e+01, 1.25e+01, 2.22e+00]    []  \n",
            "9000      [7.70e+01, 2.90e+01, 1.18e+01, 4.16e+00, 2.18e-01, 5.08e-01, 4.73e+01, 1.34e+01, 3.29e+00]    [7.77e+01, 3.03e+01, 9.72e+00, 4.16e+00, 2.18e-01, 5.08e-01, 4.73e+01, 1.34e+01, 3.29e+00]    []  \n",
            "10000     [8.00e+01, 3.23e+01, 9.68e+00, 1.76e+00, 7.01e-02, 2.26e-01, 2.51e+01, 1.53e+01, 1.21e+00]    [6.72e+01, 2.74e+01, 4.91e+00, 1.76e+00, 7.01e-02, 2.26e-01, 2.51e+01, 1.53e+01, 1.21e+00]    []  \n",
            "\n",
            "Best model at step 8000:\n",
            "  train loss: 1.29e+02\n",
            "  test loss: 1.28e+02\n",
            "  test metric: []\n",
            "\n",
            "'train' took 32.903925 s\n",
            "\n",
            "Estimated beta: 0.44498494267463684\n",
            "Compiling model...\n",
            "Warning: For the backend tensorflow.compat.v1, `external_trainable_variables` is ignored, and all trainable ``tf.Variable`` objects are automatically collected.\n",
            "Building feed-forward neural network...\n",
            "'build' took 0.081122 s\n",
            "\n"
          ]
        },
        {
          "output_type": "stream",
          "name": "stderr",
          "text": [
            "/usr/local/lib/python3.10/dist-packages/deepxde/nn/tensorflow_compat_v1/fnn.py:116: UserWarning: `tf.layers.dense` is deprecated and will be removed in a future version. Please use `tf.keras.layers.Dense` instead.\n",
            "  return tf.layers.dense(\n"
          ]
        },
        {
          "output_type": "stream",
          "name": "stdout",
          "text": [
            "'compile' took 3.103615 s\n",
            "\n",
            "Training model...\n",
            "\n",
            "Step      Train loss                                                                                    Test loss                                                                                     Test metric\n",
            "0         [5.38e-02, 4.09e-01, 2.92e-02, 9.80e+05, 1.00e+02, 0.00e+00, 7.96e+05, 1.37e+04, 1.14e+03]    [5.62e-02, 4.13e-01, 2.68e-02, 9.80e+05, 1.00e+02, 0.00e+00, 7.96e+05, 1.37e+04, 1.14e+03]    []  \n",
            "1000      [2.07e+02, 1.10e+02, 7.94e+01, 1.14e+02, 2.59e+01, 9.97e+00, 1.72e+03, 9.89e+02, 1.20e+02]    [1.67e+02, 9.83e+01, 6.35e+01, 1.14e+02, 2.59e+01, 9.97e+00, 1.72e+03, 9.89e+02, 1.20e+02]    []  \n",
            "2000      [2.03e+02, 1.10e+02, 6.11e+01, 1.15e+02, 3.09e+01, 1.04e+01, 1.72e+03, 9.78e+02, 1.20e+02]    [1.65e+02, 9.88e+01, 5.27e+01, 1.15e+02, 3.09e+01, 1.04e+01, 1.72e+03, 9.78e+02, 1.20e+02]    []  \n",
            "3000      [1.93e+02, 1.07e+02, 4.46e+01, 1.18e+02, 2.97e+01, 9.54e+00, 1.72e+03, 9.78e+02, 1.20e+02]    [1.58e+02, 9.53e+01, 4.29e+01, 1.18e+02, 2.97e+01, 9.54e+00, 1.72e+03, 9.78e+02, 1.20e+02]    []  \n",
            "4000      [1.83e+02, 1.02e+02, 3.75e+01, 1.13e+02, 3.24e+01, 9.86e+00, 1.73e+03, 9.74e+02, 1.20e+02]    [1.53e+02, 9.10e+01, 3.86e+01, 1.13e+02, 3.24e+01, 9.86e+00, 1.73e+03, 9.74e+02, 1.20e+02]    []  \n",
            "5000      [1.73e+02, 9.58e+01, 3.69e+01, 1.11e+02, 2.75e+01, 9.53e+00, 1.73e+03, 9.83e+02, 1.20e+02]    [1.46e+02, 8.56e+01, 3.87e+01, 1.11e+02, 2.75e+01, 9.53e+00, 1.73e+03, 9.83e+02, 1.20e+02]    []  \n",
            "6000      [1.68e+02, 9.30e+01, 3.60e+01, 1.20e+02, 3.05e+01, 9.72e+00, 1.72e+03, 9.78e+02, 1.20e+02]    [1.43e+02, 8.29e+01, 3.78e+01, 1.20e+02, 3.05e+01, 9.72e+00, 1.72e+03, 9.78e+02, 1.20e+02]    []  \n",
            "7000      [2.29e+02, 7.81e+01, 3.61e+01, 7.73e-01, 1.49e+00, 5.80e-01, 9.14e+01, 6.40e+01, 1.09e+01]    [1.53e+02, 6.23e+01, 2.36e+01, 7.73e-01, 1.49e+00, 5.80e-01, 9.14e+01, 6.40e+01, 1.09e+01]    []  \n",
            "8000      [6.48e+01, 2.80e+01, 1.05e+01, 3.28e-03, 1.52e-01, 1.50e-05, 1.95e+01, 1.32e+01, 1.99e+00]    [6.61e+01, 2.84e+01, 8.26e+00, 3.27e-03, 1.52e-01, 1.49e-05, 1.95e+01, 1.32e+01, 1.99e+00]    []  \n",
            "9000      [5.20e+01, 1.84e+01, 1.27e+01, 7.08e+00, 2.88e-01, 2.82e-01, 5.60e+01, 1.58e+01, 3.40e+00]    [5.29e+01, 1.97e+01, 9.38e+00, 7.08e+00, 2.88e-01, 2.82e-01, 5.60e+01, 1.58e+01, 3.40e+00]    []  \n",
            "10000     [5.41e+01, 1.87e+01, 1.31e+01, 5.77e+00, 3.99e-01, 3.16e-01, 4.44e+01, 1.27e+01, 3.48e+00]    [5.43e+01, 1.99e+01, 9.79e+00, 5.77e+00, 3.99e-01, 3.16e-01, 4.44e+01, 1.27e+01, 3.48e+00]    []  \n",
            "\n",
            "Best model at step 8000:\n",
            "  train loss: 1.38e+02\n",
            "  test loss: 1.38e+02\n",
            "  test metric: []\n",
            "\n",
            "'train' took 31.170870 s\n",
            "\n",
            "Estimated beta: 0.45944884419441223\n",
            "Compiling model...\n",
            "Warning: For the backend tensorflow.compat.v1, `external_trainable_variables` is ignored, and all trainable ``tf.Variable`` objects are automatically collected.\n",
            "Building feed-forward neural network...\n",
            "'build' took 0.066071 s\n",
            "\n"
          ]
        },
        {
          "output_type": "stream",
          "name": "stderr",
          "text": [
            "/usr/local/lib/python3.10/dist-packages/deepxde/nn/tensorflow_compat_v1/fnn.py:116: UserWarning: `tf.layers.dense` is deprecated and will be removed in a future version. Please use `tf.keras.layers.Dense` instead.\n",
            "  return tf.layers.dense(\n"
          ]
        },
        {
          "output_type": "stream",
          "name": "stdout",
          "text": [
            "'compile' took 2.571663 s\n",
            "\n",
            "Training model...\n",
            "\n",
            "Step      Train loss                                                                                    Test loss                                                                                     Test metric\n",
            "0         [1.18e-02, 5.92e-01, 2.26e-02, 9.80e+05, 1.00e+02, 0.00e+00, 7.98e+05, 1.49e+04, 1.28e+03]    [1.24e-02, 6.01e-01, 2.25e-02, 9.80e+05, 1.00e+02, 0.00e+00, 7.98e+05, 1.49e+04, 1.28e+03]    []  \n",
            "1000      [1.56e+02, 1.45e+02, 8.08e+01, 1.08e+02, 2.94e+01, 6.42e+00, 1.73e+03, 9.84e+02, 1.24e+02]    [1.35e+02, 1.19e+02, 6.57e+01, 1.08e+02, 2.94e+01, 6.42e+00, 1.73e+03, 9.84e+02, 1.24e+02]    []  \n",
            "2000      [1.50e+02, 1.45e+02, 7.67e+01, 1.16e+02, 2.56e+01, 1.06e+01, 1.72e+03, 9.85e+02, 1.19e+02]    [1.31e+02, 1.18e+02, 6.34e+01, 1.16e+02, 2.56e+01, 1.06e+01, 1.72e+03, 9.85e+02, 1.19e+02]    []  \n",
            "3000      [1.51e+02, 1.35e+02, 5.96e+01, 1.13e+02, 3.72e+01, 1.17e+01, 1.73e+03, 9.71e+02, 1.18e+02]    [1.31e+02, 1.11e+02, 5.20e+01, 1.13e+02, 3.72e+01, 1.17e+01, 1.73e+03, 9.71e+02, 1.18e+02]    []  \n",
            "4000      [1.50e+02, 1.17e+02, 3.78e+01, 1.15e+02, 2.96e+01, 1.29e+01, 1.72e+03, 9.79e+02, 1.17e+02]    [1.31e+02, 9.77e+01, 3.86e+01, 1.15e+02, 2.96e+01, 1.29e+01, 1.72e+03, 9.79e+02, 1.17e+02]    []  \n",
            "5000      [1.42e+02, 5.54e+01, 2.60e+01, 2.49e-01, 1.86e-01, 2.07e-03, 9.01e+01, 6.15e+01, 1.03e+01]    [1.44e+02, 5.78e+01, 2.19e+01, 2.49e-01, 1.86e-01, 2.07e-03, 9.01e+01, 6.15e+01, 1.03e+01]    []  \n",
            "6000      [1.42e+02, 5.56e+01, 2.59e+01, 4.97e-01, 2.41e-01, 1.09e-02, 8.98e+01, 6.13e+01, 1.03e+01]    [1.43e+02, 5.74e+01, 2.18e+01, 4.97e-01, 2.41e-01, 1.09e-02, 8.98e+01, 6.13e+01, 1.03e+01]    []  \n",
            "7000      [1.42e+02, 5.54e+01, 2.61e+01, 8.27e-05, 7.01e-02, 1.44e-02, 9.26e+01, 6.19e+01, 1.04e+01]    [1.44e+02, 5.76e+01, 2.20e+01, 8.27e-05, 7.01e-02, 1.44e-02, 9.26e+01, 6.19e+01, 1.04e+01]    []  \n",
            "8000      [1.42e+02, 5.55e+01, 2.60e+01, 3.11e-01, 2.03e-01, 3.29e-03, 9.00e+01, 6.14e+01, 1.03e+01]    [1.44e+02, 5.78e+01, 2.19e+01, 3.11e-01, 2.03e-01, 3.30e-03, 9.00e+01, 6.14e+01, 1.03e+01]    []  \n",
            "9000      [1.42e+02, 5.58e+01, 2.61e+01, 5.05e-03, 6.43e-01, 3.56e-02, 9.30e+01, 6.13e+01, 1.05e+01]    [1.44e+02, 5.78e+01, 2.20e+01, 5.04e-03, 6.43e-01, 3.56e-02, 9.30e+01, 6.13e+01, 1.05e+01]    []  \n",
            "10000     [1.42e+02, 5.55e+01, 2.60e+01, 3.09e-01, 2.06e-01, 3.51e-03, 9.00e+01, 6.14e+01, 1.03e+01]    [1.44e+02, 5.78e+01, 2.19e+01, 3.09e-01, 2.06e-01, 3.52e-03, 9.00e+01, 6.14e+01, 1.03e+01]    []  \n",
            "\n",
            "Best model at step 10000:\n",
            "  train loss: 3.86e+02\n",
            "  test loss: 3.86e+02\n",
            "  test metric: []\n",
            "\n",
            "'train' took 32.895163 s\n",
            "\n",
            "Estimated beta: 0.4180479943752289\n",
            "Compiling model...\n",
            "Warning: For the backend tensorflow.compat.v1, `external_trainable_variables` is ignored, and all trainable ``tf.Variable`` objects are automatically collected.\n",
            "Building feed-forward neural network...\n",
            "'build' took 0.056400 s\n",
            "\n"
          ]
        },
        {
          "output_type": "stream",
          "name": "stderr",
          "text": [
            "/usr/local/lib/python3.10/dist-packages/deepxde/nn/tensorflow_compat_v1/fnn.py:116: UserWarning: `tf.layers.dense` is deprecated and will be removed in a future version. Please use `tf.keras.layers.Dense` instead.\n",
            "  return tf.layers.dense(\n"
          ]
        },
        {
          "output_type": "stream",
          "name": "stdout",
          "text": [
            "'compile' took 2.387449 s\n",
            "\n",
            "Training model...\n",
            "\n",
            "Step      Train loss                                                                                    Test loss                                                                                     Test metric\n",
            "0         [3.74e-02, 3.41e-03, 1.34e-01, 9.80e+05, 1.00e+02, 0.00e+00, 7.96e+05, 1.42e+04, 1.31e+03]    [3.92e-02, 3.46e-03, 1.40e-01, 9.80e+05, 1.00e+02, 0.00e+00, 7.96e+05, 1.42e+04, 1.31e+03]    []  \n",
            "1000      [1.86e+02, 1.31e+02, 7.25e+01, 1.19e+02, 2.26e+01, 1.05e+01, 1.72e+03, 9.95e+02, 1.19e+02]    [1.52e+02, 1.11e+02, 5.97e+01, 1.19e+02, 2.26e+01, 1.05e+01, 1.72e+03, 9.95e+02, 1.19e+02]    []  \n",
            "2000      [1.88e+02, 1.33e+02, 6.49e+01, 1.08e+02, 3.15e+01, 8.43e+00, 1.73e+03, 9.80e+02, 1.21e+02]    [1.56e+02, 1.13e+02, 5.52e+01, 1.08e+02, 3.15e+01, 8.43e+00, 1.73e+03, 9.80e+02, 1.21e+02]    []  \n",
            "3000      [1.80e+02, 1.27e+02, 5.02e+01, 1.13e+02, 3.93e+01, 9.82e+00, 1.73e+03, 9.71e+02, 1.20e+02]    [1.49e+02, 1.08e+02, 4.60e+01, 1.13e+02, 3.93e+01, 9.82e+00, 1.73e+03, 9.71e+02, 1.20e+02]    []  \n",
            "4000      [1.75e+02, 1.15e+02, 3.88e+01, 1.23e+02, 2.71e+01, 1.02e+01, 1.72e+03, 9.86e+02, 1.20e+02]    [1.47e+02, 9.95e+01, 3.96e+01, 1.23e+02, 2.71e+01, 1.02e+01, 1.72e+03, 9.86e+02, 1.20e+02]    []  \n",
            "5000      [1.70e+02, 1.07e+02, 3.64e+01, 1.23e+02, 3.12e+01, 9.69e+00, 1.72e+03, 9.76e+02, 1.20e+02]    [1.43e+02, 9.33e+01, 3.82e+01, 1.23e+02, 3.12e+01, 9.69e+00, 1.72e+03, 9.76e+02, 1.20e+02]    []  \n",
            "6000      [1.65e+02, 9.76e+01, 3.62e+01, 1.12e+02, 2.93e+01, 7.62e+00, 1.73e+03, 9.81e+02, 1.23e+02]    [1.41e+02, 8.64e+01, 3.80e+01, 1.12e+02, 2.93e+01, 7.62e+00, 1.73e+03, 9.81e+02, 1.23e+02]    []  \n",
            "7000      [1.81e+02, 9.94e+01, 2.67e+01, 1.72e+00, 7.71e-01, 2.45e-01, 1.05e+02, 7.31e+01, 1.05e+01]    [1.71e+02, 8.91e+01, 2.24e+01, 1.72e+00, 7.71e-01, 2.45e-01, 1.05e+02, 7.31e+01, 1.05e+01]    []  \n",
            "8000      [1.49e+02, 6.29e+01, 1.66e+01, 1.62e-01, 4.82e-05, 1.94e-01, 9.74e+01, 6.45e+01, 1.03e+01]    [1.51e+02, 6.38e+01, 1.65e+01, 1.62e-01, 4.88e-05, 1.94e-01, 9.74e+01, 6.45e+01, 1.03e+01]    []  \n",
            "9000      [1.28e+02, 5.32e+01, 6.78e+00, 4.50e+00, 2.23e+00, 7.94e-03, 8.65e+01, 5.62e+01, 1.76e+00]    [1.29e+02, 5.49e+01, 6.12e+00, 4.50e+00, 2.23e+00, 7.94e-03, 8.65e+01, 5.62e+01, 1.76e+00]    []  \n",
            "10000     [1.21e+02, 5.97e+01, 1.12e+01, 4.53e-01, 8.44e-02, 2.09e-02, 3.32e+01, 3.34e+01, 4.24e+00]    [1.16e+02, 5.52e+01, 1.08e+01, 4.52e-01, 8.44e-02, 2.10e-02, 3.32e+01, 3.34e+01, 4.24e+00]    []  \n",
            "\n",
            "Best model at step 10000:\n",
            "  train loss: 2.63e+02\n",
            "  test loss: 2.54e+02\n",
            "  test metric: []\n",
            "\n",
            "'train' took 31.834165 s\n",
            "\n",
            "Estimated beta: 0.4135603606700897\n",
            "Compiling model...\n",
            "Warning: For the backend tensorflow.compat.v1, `external_trainable_variables` is ignored, and all trainable ``tf.Variable`` objects are automatically collected.\n",
            "Building feed-forward neural network...\n",
            "'build' took 0.080502 s\n",
            "\n"
          ]
        },
        {
          "output_type": "stream",
          "name": "stderr",
          "text": [
            "/usr/local/lib/python3.10/dist-packages/deepxde/nn/tensorflow_compat_v1/fnn.py:116: UserWarning: `tf.layers.dense` is deprecated and will be removed in a future version. Please use `tf.keras.layers.Dense` instead.\n",
            "  return tf.layers.dense(\n"
          ]
        },
        {
          "output_type": "stream",
          "name": "stdout",
          "text": [
            "'compile' took 2.850304 s\n",
            "\n",
            "Training model...\n",
            "\n",
            "Step      Train loss                                                                                    Test loss                                                                                     Test metric\n",
            "0         [5.87e-02, 1.59e-01, 9.64e-02, 9.80e+05, 1.00e+02, 0.00e+00, 7.99e+05, 1.39e+04, 1.24e+03]    [6.15e-02, 1.62e-01, 9.70e-02, 9.80e+05, 1.00e+02, 0.00e+00, 7.99e+05, 1.39e+04, 1.24e+03]    []  \n",
            "1000      [3.18e+02, 1.28e+02, 6.59e+01, 1.20e+02, 2.33e+01, 1.09e+01, 1.72e+03, 1.01e+03, 1.19e+02]    [2.34e+02, 1.15e+02, 5.50e+01, 1.20e+02, 2.33e+01, 1.09e+01, 1.72e+03, 1.01e+03, 1.19e+02]    []  \n",
            "2000      [2.85e+02, 1.18e+02, 6.68e+01, 1.23e+02, 2.26e+01, 9.63e+00, 1.71e+03, 9.96e+02, 1.20e+02]    [1.66e+02, 1.04e+02, 5.60e+01, 1.23e+02, 2.26e+01, 9.63e+00, 1.71e+03, 9.96e+02, 1.20e+02]    []  \n",
            "3000      [1.91e+02, 1.22e+02, 6.76e+01, 1.21e+02, 3.82e+01, 1.09e+01, 1.72e+03, 9.69e+02, 1.19e+02]    [1.57e+02, 1.05e+02, 5.70e+01, 1.21e+02, 3.82e+01, 1.09e+01, 1.72e+03, 9.69e+02, 1.19e+02]    []  \n",
            "4000      [1.97e+02, 1.26e+02, 6.90e+01, 9.28e+01, 3.49e+01, 9.15e+00, 1.75e+03, 9.75e+02, 1.21e+02]    [1.43e+02, 1.06e+02, 5.65e+01, 9.28e+01, 3.49e+01, 9.15e+00, 1.75e+03, 9.75e+02, 1.21e+02]    []  \n",
            "5000      [1.72e+02, 1.23e+02, 6.89e+01, 1.31e+02, 2.47e+01, 1.15e+01, 1.71e+03, 9.87e+02, 1.19e+02]    [1.32e+02, 1.03e+02, 5.65e+01, 1.31e+02, 2.47e+01, 1.15e+01, 1.71e+03, 9.87e+02, 1.19e+02]    []  \n",
            "6000      [1.04e+02, 1.08e+02, 1.79e+01, 3.50e-01, 2.25e+01, 1.38e-04, 4.31e+01, 2.21e+02, 5.23e+00]    [1.07e+02, 8.29e+01, 1.46e+01, 3.50e-01, 2.25e+01, 1.38e-04, 4.31e+01, 2.21e+02, 5.23e+00]    []  \n",
            "7000      [5.13e+01, 1.91e+01, 1.14e+01, 4.36e-04, 4.14e-02, 3.01e-04, 7.95e+00, 1.08e+01, 1.47e+00]    [5.03e+01, 2.01e+01, 8.99e+00, 4.33e-04, 4.14e-02, 3.01e-04, 7.95e+00, 1.08e+01, 1.47e+00]    []  \n",
            "8000      [6.33e+01, 2.33e+01, 1.29e+01, 5.67e-01, 5.55e-03, 3.71e-02, 1.46e+01, 1.28e+01, 1.99e+00]    [6.29e+01, 2.45e+01, 1.03e+01, 5.67e-01, 5.55e-03, 3.71e-02, 1.46e+01, 1.28e+01, 1.99e+00]    []  \n",
            "9000      [6.13e+01, 2.35e+01, 1.30e+01, 1.54e-02, 6.33e-04, 3.16e-05, 1.23e+01, 1.25e+01, 2.10e+00]    [6.16e+01, 2.34e+01, 1.03e+01, 1.54e-02, 6.34e-04, 3.17e-05, 1.23e+01, 1.25e+01, 2.10e+00]    []  \n",
            "10000     [6.13e+01, 2.29e+01, 1.28e+01, 7.95e-04, 5.59e-03, 1.12e-03, 1.11e+01, 1.19e+01, 1.97e+00]    [6.12e+01, 2.31e+01, 1.02e+01, 7.95e-04, 5.59e-03, 1.12e-03, 1.11e+01, 1.19e+01, 1.97e+00]    []  \n",
            "\n",
            "Best model at step 7000:\n",
            "  train loss: 1.02e+02\n",
            "  test loss: 9.97e+01\n",
            "  test metric: []\n",
            "\n",
            "'train' took 33.541399 s\n",
            "\n",
            "Estimated beta: 0.45710718631744385\n",
            "Compiling model...\n",
            "Warning: For the backend tensorflow.compat.v1, `external_trainable_variables` is ignored, and all trainable ``tf.Variable`` objects are automatically collected.\n",
            "Building feed-forward neural network...\n",
            "'build' took 0.063079 s\n",
            "\n"
          ]
        },
        {
          "output_type": "stream",
          "name": "stderr",
          "text": [
            "/usr/local/lib/python3.10/dist-packages/deepxde/nn/tensorflow_compat_v1/fnn.py:116: UserWarning: `tf.layers.dense` is deprecated and will be removed in a future version. Please use `tf.keras.layers.Dense` instead.\n",
            "  return tf.layers.dense(\n"
          ]
        },
        {
          "output_type": "stream",
          "name": "stdout",
          "text": [
            "'compile' took 3.092119 s\n",
            "\n",
            "Training model...\n",
            "\n",
            "Step      Train loss                                                                                    Test loss                                                                                     Test metric\n",
            "0         [1.44e-03, 6.91e-04, 4.85e-02, 9.68e+05, 2.26e+02, 2.27e+00, 7.32e+05, 2.42e+04, 2.48e+03]    [1.44e-03, 6.86e-04, 4.85e-02, 9.68e+05, 2.26e+02, 2.27e+00, 7.32e+05, 2.42e+04, 2.48e+03]    []  \n",
            "1000      [2.81e+02, 1.42e+02, 1.01e+02, 1.81e+02, 3.62e+01, 1.89e+01, 2.32e+03, 1.23e+03, 2.04e+02]    [2.30e+02, 1.24e+02, 8.53e+01, 1.81e+02, 3.62e+01, 1.89e+01, 2.32e+03, 1.23e+03, 2.04e+02]    []  \n",
            "2000      [2.76e+02, 1.40e+02, 8.36e+01, 1.94e+02, 3.97e+01, 1.83e+01, 2.31e+03, 1.23e+03, 2.04e+02]    [2.26e+02, 1.22e+02, 7.53e+01, 1.94e+02, 3.97e+01, 1.83e+01, 2.31e+03, 1.23e+03, 2.04e+02]    []  \n",
            "3000      [2.67e+02, 1.35e+02, 6.96e+01, 1.80e+02, 3.63e+01, 1.79e+01, 2.32e+03, 1.23e+03, 2.05e+02]    [2.20e+02, 1.18e+02, 6.75e+01, 1.80e+02, 3.63e+01, 1.79e+01, 2.32e+03, 1.23e+03, 2.05e+02]    []  \n",
            "4000      [2.65e+02, 1.35e+02, 6.05e+01, 1.80e+02, 4.03e+01, 1.71e+01, 2.32e+03, 1.22e+03, 2.05e+02]    [2.21e+02, 1.18e+02, 6.18e+01, 1.80e+02, 4.03e+01, 1.71e+01, 2.32e+03, 1.22e+03, 2.05e+02]    []  \n",
            "5000      [2.58e+02, 1.30e+02, 5.89e+01, 1.94e+02, 4.17e+01, 1.32e+01, 2.31e+03, 1.22e+03, 2.10e+02]    [2.17e+02, 1.13e+02, 6.13e+01, 1.94e+02, 4.17e+01, 1.32e+01, 2.31e+03, 1.22e+03, 2.10e+02]    []  \n",
            "6000      [2.62e+02, 8.48e+01, 5.86e+01, 6.73e-01, 1.20e+00, 2.87e-01, 9.12e+01, 5.67e+01, 1.68e+01]    [1.89e+02, 7.16e+01, 3.93e+01, 6.73e-01, 1.20e+00, 2.87e-01, 9.12e+01, 5.67e+01, 1.68e+01]    []  \n",
            "7000      [1.62e+02, 6.19e+01, 4.30e+01, 9.11e+00, 1.27e+00, 3.92e-01, 9.33e+01, 5.05e+01, 1.61e+01]    [1.67e+02, 6.31e+01, 3.54e+01, 9.11e+00, 1.27e+00, 3.92e-01, 9.33e+01, 5.05e+01, 1.61e+01]    []  \n",
            "8000      [7.48e+01, 3.87e+01, 2.72e+01, 4.66e+00, 9.51e-01, 1.62e-01, 3.68e+01, 3.05e+01, 9.56e+00]    [7.50e+01, 4.01e+01, 2.14e+01, 4.67e+00, 9.51e-01, 1.62e-01, 3.68e+01, 3.05e+01, 9.56e+00]    []  \n",
            "9000      [6.99e+01, 2.69e+01, 1.86e+01, 4.81e+00, 5.82e-01, 3.21e-01, 2.00e+01, 9.76e+00, 3.19e+00]    [7.19e+01, 2.86e+01, 1.50e+01, 4.81e+00, 5.82e-01, 3.21e-01, 2.00e+01, 9.76e+00, 3.19e+00]    []  \n",
            "10000     [6.89e+01, 2.68e+01, 1.88e+01, 2.64e-01, 1.16e-02, 7.83e-03, 1.43e+01, 9.75e+00, 3.18e+00]    [7.16e+01, 2.85e+01, 1.51e+01, 2.64e-01, 1.16e-02, 7.84e-03, 1.43e+01, 9.75e+00, 3.18e+00]    []  \n",
            "\n",
            "Best model at step 10000:\n",
            "  train loss: 1.42e+02\n",
            "  test loss: 1.43e+02\n",
            "  test metric: []\n",
            "\n",
            "'train' took 32.246085 s\n",
            "\n",
            "Estimated beta: 0.4819803237915039\n",
            "Compiling model...\n",
            "Warning: For the backend tensorflow.compat.v1, `external_trainable_variables` is ignored, and all trainable ``tf.Variable`` objects are automatically collected.\n",
            "Building feed-forward neural network...\n",
            "'build' took 0.058198 s\n",
            "\n"
          ]
        },
        {
          "output_type": "stream",
          "name": "stderr",
          "text": [
            "/usr/local/lib/python3.10/dist-packages/deepxde/nn/tensorflow_compat_v1/fnn.py:116: UserWarning: `tf.layers.dense` is deprecated and will be removed in a future version. Please use `tf.keras.layers.Dense` instead.\n",
            "  return tf.layers.dense(\n"
          ]
        },
        {
          "output_type": "stream",
          "name": "stdout",
          "text": [
            "'compile' took 2.448033 s\n",
            "\n",
            "Training model...\n",
            "\n",
            "Step      Train loss                                                                                    Test loss                                                                                     Test metric\n",
            "0         [7.50e-04, 1.35e-01, 1.36e-01, 9.49e+05, 4.87e+02, 1.31e+01, 6.59e+05, 3.76e+04, 4.60e+03]    [7.50e-04, 1.34e-01, 1.35e-01, 9.49e+05, 4.87e+02, 1.31e+01, 6.59e+05, 3.76e+04, 4.60e+03]    []  \n",
            "1000      [1.64e+02, 5.20e+01, 6.20e+01, 6.75e-01, 4.09e-01, 2.49e-02, 1.20e+02, 4.32e+01, 3.66e+01]    [1.73e+02, 5.21e+01, 5.38e+01, 6.75e-01, 4.09e-01, 2.49e-02, 1.20e+02, 4.32e+01, 3.66e+01]    []  \n",
            "2000      [1.63e+02, 5.18e+01, 6.17e+01, 7.16e-01, 4.85e-01, 3.79e-03, 1.20e+02, 4.37e+01, 3.66e+01]    [1.72e+02, 5.15e+01, 5.36e+01, 7.16e-01, 4.85e-01, 3.80e-03, 1.20e+02, 4.37e+01, 3.66e+01]    []  \n",
            "3000      [1.63e+02, 5.18e+01, 6.17e+01, 6.82e-01, 4.73e-01, 3.18e-03, 1.20e+02, 4.37e+01, 3.67e+01]    [1.72e+02, 5.14e+01, 5.36e+01, 6.82e-01, 4.73e-01, 3.18e-03, 1.20e+02, 4.37e+01, 3.67e+01]    []  \n",
            "4000      [1.63e+02, 5.18e+01, 6.17e+01, 7.16e-01, 4.85e-01, 3.80e-03, 1.20e+02, 4.37e+01, 3.66e+01]    [1.72e+02, 5.15e+01, 5.36e+01, 7.16e-01, 4.85e-01, 3.80e-03, 1.20e+02, 4.37e+01, 3.66e+01]    []  \n",
            "5000      [1.63e+02, 5.18e+01, 6.17e+01, 7.16e-01, 4.85e-01, 3.79e-03, 1.20e+02, 4.37e+01, 3.66e+01]    [1.72e+02, 5.15e+01, 5.36e+01, 7.16e-01, 4.85e-01, 3.79e-03, 1.20e+02, 4.37e+01, 3.66e+01]    []  \n",
            "6000      [1.63e+02, 5.18e+01, 6.17e+01, 6.97e-01, 4.82e-01, 3.42e-03, 1.20e+02, 4.37e+01, 3.67e+01]    [1.72e+02, 5.15e+01, 5.36e+01, 6.97e-01, 4.82e-01, 3.42e-03, 1.20e+02, 4.37e+01, 3.67e+01]    []  \n",
            "7000      [1.63e+02, 5.19e+01, 6.18e+01, 5.03e-01, 4.31e-01, 2.08e-03, 1.20e+02, 4.37e+01, 3.67e+01]    [1.73e+02, 5.18e+01, 5.38e+01, 5.03e-01, 4.31e-01, 2.08e-03, 1.20e+02, 4.37e+01, 3.67e+01]    []  \n",
            "8000      [5.48e+01, 3.84e+01, 2.21e+01, 4.90e-01, 2.64e-02, 8.30e-03, 8.53e+00, 5.41e+00, 3.73e+00]    [6.02e+01, 3.38e+01, 1.79e+01, 4.90e-01, 2.64e-02, 8.30e-03, 8.53e+00, 5.41e+00, 3.73e+00]    []  \n",
            "9000      [5.35e+01, 3.58e+01, 2.14e+01, 2.85e-01, 1.76e-02, 1.68e-03, 7.47e+00, 4.98e+00, 3.38e+00]    [5.87e+01, 3.23e+01, 1.76e+01, 2.85e-01, 1.76e-02, 1.68e-03, 7.47e+00, 4.98e+00, 3.38e+00]    []  \n",
            "10000     [5.13e+01, 3.30e+01, 2.11e+01, 9.86e-02, 6.54e-03, 1.68e-03, 6.85e+00, 4.80e+00, 3.32e+00]    [5.63e+01, 3.01e+01, 1.74e+01, 9.86e-02, 6.55e-03, 1.68e-03, 6.85e+00, 4.80e+00, 3.32e+00]    []  \n",
            "\n",
            "Best model at step 10000:\n",
            "  train loss: 1.20e+02\n",
            "  test loss: 1.19e+02\n",
            "  test metric: []\n",
            "\n",
            "'train' took 35.554791 s\n",
            "\n",
            "Estimated beta: 0.5023034811019897\n",
            "Compiling model...\n",
            "Warning: For the backend tensorflow.compat.v1, `external_trainable_variables` is ignored, and all trainable ``tf.Variable`` objects are automatically collected.\n",
            "Building feed-forward neural network...\n",
            "'build' took 0.057897 s\n",
            "\n"
          ]
        },
        {
          "output_type": "stream",
          "name": "stderr",
          "text": [
            "/usr/local/lib/python3.10/dist-packages/deepxde/nn/tensorflow_compat_v1/fnn.py:116: UserWarning: `tf.layers.dense` is deprecated and will be removed in a future version. Please use `tf.keras.layers.Dense` instead.\n",
            "  return tf.layers.dense(\n"
          ]
        },
        {
          "output_type": "stream",
          "name": "stdout",
          "text": [
            "'compile' took 2.478195 s\n",
            "\n",
            "Training model...\n",
            "\n",
            "Step      Train loss                                                                                    Test loss                                                                                     Test metric\n",
            "0         [8.20e-02, 2.91e-02, 5.36e-03, 9.21e+05, 1.14e+03, 3.69e+01, 5.77e+05, 5.64e+04, 7.84e+03]    [8.20e-02, 2.90e-02, 5.22e-03, 9.21e+05, 1.14e+03, 3.69e+01, 5.77e+05, 5.64e+04, 7.84e+03]    []  \n",
            "1000      [3.75e+02, 1.40e+02, 1.69e+02, 2.65e+02, 3.01e+01, 4.64e+01, 2.51e+03, 9.92e+02, 4.45e+02]    [3.09e+02, 1.07e+02, 1.48e+02, 2.65e+02, 3.01e+01, 4.64e+01, 2.51e+03, 9.92e+02, 4.45e+02]    []  \n",
            "2000      [3.75e+02, 1.40e+02, 1.69e+02, 2.65e+02, 3.01e+01, 4.64e+01, 2.51e+03, 9.92e+02, 4.45e+02]    [3.09e+02, 1.07e+02, 1.48e+02, 2.65e+02, 3.01e+01, 4.64e+01, 2.51e+03, 9.92e+02, 4.45e+02]    []  \n",
            "3000      [3.75e+02, 1.40e+02, 1.69e+02, 2.65e+02, 3.01e+01, 4.64e+01, 2.51e+03, 9.92e+02, 4.45e+02]    [3.09e+02, 1.07e+02, 1.48e+02, 2.65e+02, 3.01e+01, 4.64e+01, 2.51e+03, 9.92e+02, 4.45e+02]    []  \n",
            "4000      [3.75e+02, 1.40e+02, 1.69e+02, 2.65e+02, 3.01e+01, 4.64e+01, 2.51e+03, 9.92e+02, 4.45e+02]    [3.09e+02, 1.07e+02, 1.48e+02, 2.65e+02, 3.01e+01, 4.64e+01, 2.51e+03, 9.92e+02, 4.45e+02]    []  \n",
            "5000      [3.75e+02, 1.40e+02, 1.69e+02, 2.67e+02, 3.02e+01, 4.64e+01, 2.51e+03, 9.92e+02, 4.45e+02]    [3.09e+02, 1.07e+02, 1.48e+02, 2.67e+02, 3.02e+01, 4.64e+01, 2.51e+03, 9.92e+02, 4.45e+02]    []  \n",
            "6000      [3.67e+02, 1.43e+02, 1.70e+02, 1.72e+02, 2.27e+01, 3.92e+01, 2.64e+03, 1.00e+03, 4.54e+02]    [3.01e+02, 1.09e+02, 1.49e+02, 1.72e+02, 2.27e+01, 3.92e+01, 2.64e+03, 1.00e+03, 4.54e+02]    []  \n",
            "7000      [3.76e+02, 1.40e+02, 1.69e+02, 2.69e+02, 3.04e+01, 4.67e+01, 2.51e+03, 9.92e+02, 4.45e+02]    [3.10e+02, 1.07e+02, 1.48e+02, 2.69e+02, 3.04e+01, 4.67e+01, 2.51e+03, 9.92e+02, 4.45e+02]    []  \n",
            "8000      [3.76e+02, 1.40e+02, 1.69e+02, 2.69e+02, 3.07e+01, 4.71e+01, 2.50e+03, 9.91e+02, 4.45e+02]    [3.10e+02, 1.07e+02, 1.48e+02, 2.69e+02, 3.07e+01, 4.71e+01, 2.50e+03, 9.91e+02, 4.45e+02]    []  \n",
            "9000      [3.75e+02, 1.40e+02, 1.69e+02, 2.65e+02, 3.01e+01, 4.64e+01, 2.51e+03, 9.92e+02, 4.45e+02]    [3.09e+02, 1.07e+02, 1.48e+02, 2.65e+02, 3.01e+01, 4.64e+01, 2.51e+03, 9.92e+02, 4.45e+02]    []  \n",
            "10000     [3.75e+02, 1.40e+02, 1.69e+02, 2.64e+02, 3.00e+01, 4.63e+01, 2.51e+03, 9.92e+02, 4.45e+02]    [3.09e+02, 1.07e+02, 1.48e+02, 2.64e+02, 3.00e+01, 4.63e+01, 2.51e+03, 9.92e+02, 4.45e+02]    []  \n",
            "\n",
            "Best model at step 3000:\n",
            "  train loss: 4.97e+03\n",
            "  test loss: 4.85e+03\n",
            "  test metric: []\n",
            "\n",
            "'train' took 33.547701 s\n",
            "\n",
            "Estimated beta: 0.3878818452358246\n",
            "Compiling model...\n",
            "Warning: For the backend tensorflow.compat.v1, `external_trainable_variables` is ignored, and all trainable ``tf.Variable`` objects are automatically collected.\n",
            "Building feed-forward neural network...\n",
            "'build' took 0.064676 s\n",
            "\n"
          ]
        },
        {
          "output_type": "stream",
          "name": "stderr",
          "text": [
            "/usr/local/lib/python3.10/dist-packages/deepxde/nn/tensorflow_compat_v1/fnn.py:116: UserWarning: `tf.layers.dense` is deprecated and will be removed in a future version. Please use `tf.keras.layers.Dense` instead.\n",
            "  return tf.layers.dense(\n"
          ]
        },
        {
          "output_type": "stream",
          "name": "stdout",
          "text": [
            "'compile' took 7.233373 s\n",
            "\n",
            "Training model...\n",
            "\n",
            "Step      Train loss                                                                                    Test loss                                                                                     Test metric\n",
            "0         [4.06e-02, 4.17e-01, 6.66e-02, 8.83e+05, 2.57e+03, 1.11e+02, 4.95e+05, 7.85e+04, 1.33e+04]    [4.06e-02, 4.17e-01, 6.53e-02, 8.83e+05, 2.57e+03, 1.11e+02, 4.95e+05, 7.85e+04, 1.33e+04]    []  \n",
            "1000      [3.37e+02, 1.39e+02, 2.00e+02, 2.32e+02, 1.42e+01, 6.14e+01, 1.85e+03, 5.65e+02, 5.57e+02]    [2.69e+02, 9.51e+01, 1.75e+02, 2.32e+02, 1.42e+01, 6.14e+01, 1.85e+03, 5.65e+02, 5.57e+02]    []  \n",
            "2000      [3.37e+02, 1.39e+02, 2.00e+02, 2.36e+02, 1.45e+01, 6.17e+01, 1.85e+03, 5.65e+02, 5.57e+02]    [2.69e+02, 9.49e+01, 1.75e+02, 2.36e+02, 1.45e+01, 6.17e+01, 1.85e+03, 5.65e+02, 5.57e+02]    []  \n",
            "3000      [3.42e+02, 1.37e+02, 1.99e+02, 2.74e+02, 1.75e+01, 6.63e+01, 1.82e+03, 5.62e+02, 5.53e+02]    [2.74e+02, 9.36e+01, 1.74e+02, 2.74e+02, 1.76e+01, 6.63e+01, 1.82e+03, 5.62e+02, 5.53e+02]    []  \n",
            "4000      [3.41e+02, 1.37e+02, 1.99e+02, 2.71e+02, 1.72e+01, 6.67e+01, 1.82e+03, 5.63e+02, 5.52e+02]    [2.73e+02, 9.37e+01, 1.74e+02, 2.71e+02, 1.72e+01, 6.67e+01, 1.82e+03, 5.63e+02, 5.52e+02]    []  \n",
            "5000      [3.32e+02, 1.41e+02, 2.01e+02, 1.97e+02, 1.14e+01, 5.65e+01, 1.89e+03, 5.69e+02, 5.63e+02]    [2.64e+02, 9.64e+01, 1.76e+02, 1.97e+02, 1.14e+01, 5.65e+01, 1.89e+03, 5.69e+02, 5.63e+02]    []  \n",
            "6000      [3.51e+02, 1.28e+02, 2.13e+02, 2.34e+02, 1.38e+01, 6.15e+01, 1.85e+03, 5.66e+02, 5.57e+02]    [2.72e+02, 9.23e+01, 1.81e+02, 2.34e+02, 1.38e+01, 6.15e+01, 1.85e+03, 5.66e+02, 5.57e+02]    []  \n",
            "7000      [3.42e+02, 1.31e+02, 2.12e+02, 1.56e+02, 6.86e+00, 4.83e+01, 1.96e+03, 5.80e+02, 5.73e+02]    [2.57e+02, 9.87e+01, 1.77e+02, 1.56e+02, 6.86e+00, 4.83e+01, 1.96e+03, 5.80e+02, 5.73e+02]    []  \n",
            "8000      [3.46e+02, 1.30e+02, 2.13e+02, 1.89e+02, 9.75e+00, 5.48e+01, 1.90e+03, 5.73e+02, 5.65e+02]    [2.62e+02, 9.66e+01, 1.79e+02, 1.89e+02, 9.75e+00, 5.48e+01, 1.90e+03, 5.73e+02, 5.65e+02]    []  \n",
            "9000      [3.37e+02, 1.39e+02, 2.00e+02, 2.32e+02, 1.42e+01, 6.14e+01, 1.85e+03, 5.65e+02, 5.57e+02]    [2.69e+02, 9.51e+01, 1.75e+02, 2.32e+02, 1.42e+01, 6.14e+01, 1.85e+03, 5.65e+02, 5.57e+02]    []  \n",
            "10000     [3.36e+02, 1.39e+02, 2.00e+02, 2.27e+02, 1.40e+01, 6.10e+01, 1.86e+03, 5.65e+02, 5.58e+02]    [2.68e+02, 9.53e+01, 1.75e+02, 2.27e+02, 1.40e+01, 6.10e+01, 1.86e+03, 5.65e+02, 5.58e+02]    []  \n",
            "\n",
            "Best model at step 9000:\n",
            "  train loss: 3.96e+03\n",
            "  test loss: 3.82e+03\n",
            "  test metric: []\n",
            "\n",
            "'train' took 36.340627 s\n",
            "\n",
            "Estimated beta: 0.44195234775543213\n",
            "Compiling model...\n",
            "Warning: For the backend tensorflow.compat.v1, `external_trainable_variables` is ignored, and all trainable ``tf.Variable`` objects are automatically collected.\n",
            "Building feed-forward neural network...\n",
            "'build' took 0.059027 s\n",
            "\n"
          ]
        },
        {
          "output_type": "stream",
          "name": "stderr",
          "text": [
            "/usr/local/lib/python3.10/dist-packages/deepxde/nn/tensorflow_compat_v1/fnn.py:116: UserWarning: `tf.layers.dense` is deprecated and will be removed in a future version. Please use `tf.keras.layers.Dense` instead.\n",
            "  return tf.layers.dense(\n"
          ]
        },
        {
          "output_type": "stream",
          "name": "stdout",
          "text": [
            "'compile' took 2.540482 s\n",
            "\n",
            "Training model...\n",
            "\n",
            "Step      Train loss                                                                                    Test loss                                                                                     Test metric\n",
            "0         [3.86e-01, 3.68e+00, 1.04e-01, 8.26e+05, 4.48e+03, 1.23e+02, 4.08e+05, 9.32e+04, 1.81e+04]    [3.85e-01, 3.66e+00, 9.02e-02, 8.26e+05, 4.48e+03, 1.23e+02, 4.08e+05, 9.32e+04, 1.81e+04]    []  \n",
            "1000      [2.53e+02, 1.24e+02, 2.94e+02, 1.57e+02, 1.77e+00, 7.37e+01, 1.00e+03, 3.19e+02, 6.16e+02]    [1.87e+02, 1.13e+02, 2.25e+02, 1.57e+02, 1.77e+00, 7.37e+01, 1.00e+03, 3.19e+02, 6.16e+02]    []  \n",
            "2000      [2.48e+02, 1.24e+02, 2.53e+02, 1.63e+02, 1.90e+00, 7.33e+01, 9.99e+02, 3.16e+02, 6.16e+02]    [1.88e+02, 1.13e+02, 2.06e+02, 1.63e+02, 1.90e+00, 7.33e+01, 9.99e+02, 3.16e+02, 6.16e+02]    []  \n",
            "3000      [2.38e+02, 9.19e+01, 1.62e+02, 1.49e+02, 2.64e+00, 5.79e+01, 1.07e+03, 2.78e+02, 5.39e+02]    [1.83e+02, 7.71e+01, 1.43e+02, 1.49e+02, 2.64e+00, 5.79e+01, 1.07e+03, 2.78e+02, 5.39e+02]    []  \n",
            "4000      [6.75e+01, 1.01e+02, 3.92e+01, 8.68e+00, 2.72e-02, 3.28e-01, 1.25e+02, 2.68e+01, 1.80e+01]    [6.71e+01, 7.10e+01, 3.91e+01, 8.68e+00, 2.72e-02, 3.28e-01, 1.25e+02, 2.68e+01, 1.80e+01]    []  \n",
            "5000      [6.85e+01, 5.97e+01, 3.91e+01, 2.25e+00, 7.03e-01, 1.93e-01, 2.04e+01, 9.03e+00, 1.02e+01]    [7.13e+01, 5.07e+01, 3.98e+01, 2.25e+00, 7.03e-01, 1.93e-01, 2.04e+01, 9.03e+00, 1.02e+01]    []  \n",
            "6000      [6.87e+01, 5.30e+01, 3.76e+01, 2.44e+00, 6.59e-01, 2.67e-01, 2.00e+01, 8.41e+00, 1.02e+01]    [7.18e+01, 4.71e+01, 3.85e+01, 2.44e+00, 6.59e-01, 2.67e-01, 2.00e+01, 8.41e+00, 1.02e+01]    []  \n",
            "7000      [6.81e+01, 4.90e+01, 3.47e+01, 6.12e+00, 1.10e+00, 1.33e+00, 7.90e+01, 1.67e+01, 1.82e+01]    [7.10e+01, 4.37e+01, 3.60e+01, 6.12e+00, 1.10e+00, 1.33e+00, 7.90e+01, 1.67e+01, 1.82e+01]    []  \n",
            "8000      [6.85e+01, 3.94e+01, 2.92e+01, 2.02e+00, 6.86e-01, 1.98e-01, 2.02e+01, 8.00e+00, 8.63e+00]    [7.14e+01, 3.73e+01, 3.08e+01, 2.02e+00, 6.86e-01, 1.98e-01, 2.02e+01, 8.00e+00, 8.63e+00]    []  \n",
            "9000      [6.85e+01, 3.49e+01, 2.41e+01, 2.11e+00, 7.99e-01, 1.71e-01, 1.98e+01, 8.40e+00, 7.80e+00]    [7.13e+01, 3.41e+01, 2.60e+01, 2.11e+00, 7.99e-01, 1.71e-01, 1.98e+01, 8.40e+00, 7.80e+00]    []  \n",
            "10000     [6.81e+01, 3.31e+01, 2.12e+01, 2.00e+00, 7.18e-01, 1.23e-01, 1.95e+01, 8.69e+00, 7.41e+00]    [7.08e+01, 3.29e+01, 2.31e+01, 2.00e+00, 7.18e-01, 1.23e-01, 1.95e+01, 8.69e+00, 7.41e+00]    []  \n",
            "\n",
            "Best model at step 10000:\n",
            "  train loss: 1.61e+02\n",
            "  test loss: 1.65e+02\n",
            "  test metric: []\n",
            "\n",
            "'train' took 34.865319 s\n",
            "\n",
            "Estimated beta: 0.49833986163139343\n",
            "Compiling model...\n",
            "Warning: For the backend tensorflow.compat.v1, `external_trainable_variables` is ignored, and all trainable ``tf.Variable`` objects are automatically collected.\n",
            "Building feed-forward neural network...\n",
            "'build' took 0.056817 s\n",
            "\n"
          ]
        },
        {
          "output_type": "stream",
          "name": "stderr",
          "text": [
            "/usr/local/lib/python3.10/dist-packages/deepxde/nn/tensorflow_compat_v1/fnn.py:116: UserWarning: `tf.layers.dense` is deprecated and will be removed in a future version. Please use `tf.keras.layers.Dense` instead.\n",
            "  return tf.layers.dense(\n"
          ]
        },
        {
          "output_type": "stream",
          "name": "stdout",
          "text": [
            "'compile' took 2.605660 s\n",
            "\n",
            "Training model...\n",
            "\n",
            "Step      Train loss                                                                                    Test loss                                                                                     Test metric\n",
            "0         [1.68e-02, 3.23e-03, 2.08e-01, 7.59e+05, 1.05e+04, 7.83e+02, 3.34e+05, 1.22e+05, 3.34e+04]    [1.68e-02, 3.23e-03, 2.08e-01, 7.59e+05, 1.05e+04, 7.83e+02, 3.34e+05, 1.22e+05, 3.34e+04]    []  \n",
            "1000      [1.85e+02, 2.68e+02, 1.05e+02, 1.00e+02, 1.92e+00, 4.67e+01, 5.69e+02, 3.98e+02, 3.42e+02]    [1.33e+02, 2.16e+02, 8.61e+01, 1.00e+02, 1.92e+00, 4.67e+01, 5.69e+02, 3.98e+02, 3.42e+02]    []  \n",
            "2000      [1.64e+02, 1.55e+02, 7.72e+01, 1.03e+02, 9.04e-01, 1.98e+01, 5.21e+02, 1.73e+02, 1.52e+02]    [1.24e+02, 1.15e+02, 7.47e+01, 1.03e+02, 9.04e-01, 1.98e+01, 5.21e+02, 1.73e+02, 1.52e+02]    []  \n",
            "3000      [1.52e+02, 1.05e+02, 8.97e+01, 4.90e+01, 1.42e+00, 1.31e+01, 4.94e+02, 1.21e+02, 1.61e+02]    [1.16e+02, 7.85e+01, 8.87e+01, 4.90e+01, 1.42e+00, 1.31e+01, 4.94e+02, 1.21e+02, 1.61e+02]    []  \n",
            "4000      [1.65e+02, 8.25e+01, 8.85e+01, 7.33e+01, 5.18e+00, 1.85e+01, 4.20e+02, 1.10e+02, 1.43e+02]    [1.29e+02, 6.08e+01, 8.66e+01, 7.33e+01, 5.18e+00, 1.85e+01, 4.20e+02, 1.10e+02, 1.43e+02]    []  \n",
            "5000      [1.78e+02, 8.63e+01, 6.54e+01, 4.72e+01, 5.37e+00, 7.49e+00, 3.81e+02, 1.43e+02, 7.28e+01]    [1.45e+02, 6.73e+01, 6.20e+01, 4.72e+01, 5.37e+00, 7.49e+00, 3.81e+02, 1.43e+02, 7.28e+01]    []  \n",
            "6000      [5.54e+01, 6.17e+01, 2.59e+01, 3.69e+00, 1.53e+00, 2.30e-01, 2.40e+01, 2.35e+01, 1.12e+01]    [5.51e+01, 5.72e+01, 2.81e+01, 3.69e+00, 1.53e+00, 2.30e-01, 2.40e+01, 2.35e+01, 1.12e+01]    []  \n",
            "7000      [4.98e+01, 4.87e+01, 2.46e+01, 8.85e+00, 2.57e+00, 7.86e-01, 2.22e+01, 2.10e+01, 1.11e+01]    [4.85e+01, 4.63e+01, 2.68e+01, 8.85e+00, 2.57e+00, 7.86e-01, 2.22e+01, 2.10e+01, 1.11e+01]    []  \n",
            "8000      [4.95e+01, 4.49e+01, 2.35e+01, 1.72e+01, 3.84e+00, 1.40e+00, 2.55e+01, 2.10e+01, 1.15e+01]    [4.82e+01, 4.31e+01, 2.56e+01, 1.72e+01, 3.84e+00, 1.40e+00, 2.55e+01, 2.10e+01, 1.15e+01]    []  \n",
            "9000      [5.10e+01, 4.70e+01, 2.29e+01, 4.85e-01, 7.28e-01, 5.10e-02, 2.96e+01, 1.38e+01, 6.77e+00]    [5.06e+01, 4.46e+01, 2.40e+01, 4.85e-01, 7.28e-01, 5.10e-02, 2.96e+01, 1.38e+01, 6.77e+00]    []  \n",
            "10000     [4.86e+01, 4.46e+01, 2.68e+01, 9.81e-03, 1.49e-01, 6.55e-03, 3.56e+01, 1.50e+01, 7.43e+00]    [4.90e+01, 4.27e+01, 2.68e+01, 9.81e-03, 1.49e-01, 6.55e-03, 3.56e+01, 1.50e+01, 7.43e+00]    []  \n",
            "\n",
            "Best model at step 9000:\n",
            "  train loss: 1.72e+02\n",
            "  test loss: 1.71e+02\n",
            "  test metric: []\n",
            "\n",
            "'train' took 35.279482 s\n",
            "\n",
            "Estimated beta: 0.495086669921875\n",
            "Compiling model...\n",
            "Warning: For the backend tensorflow.compat.v1, `external_trainable_variables` is ignored, and all trainable ``tf.Variable`` objects are automatically collected.\n",
            "Building feed-forward neural network...\n",
            "'build' took 0.058634 s\n",
            "\n"
          ]
        },
        {
          "output_type": "stream",
          "name": "stderr",
          "text": [
            "/usr/local/lib/python3.10/dist-packages/deepxde/nn/tensorflow_compat_v1/fnn.py:116: UserWarning: `tf.layers.dense` is deprecated and will be removed in a future version. Please use `tf.keras.layers.Dense` instead.\n",
            "  return tf.layers.dense(\n"
          ]
        },
        {
          "output_type": "stream",
          "name": "stdout",
          "text": [
            "'compile' took 2.671832 s\n",
            "\n",
            "Training model...\n",
            "\n",
            "Step      Train loss                                                                                    Test loss                                                                                     Test metric\n",
            "0         [2.08e-01, 1.37e-01, 3.45e-03, 6.75e+05, 2.10e+04, 1.57e+03, 2.66e+05, 1.45e+05, 4.71e+04]    [2.08e-01, 1.37e-01, 3.06e-03, 6.75e+05, 2.10e+04, 1.57e+03, 2.66e+05, 1.45e+05, 4.71e+04]    []  \n",
            "1000      [1.07e+02, 1.52e+02, 5.70e+02, 6.30e+01, 7.33e+00, 8.36e+01, 1.82e+02, 3.51e+02, 6.65e+02]    [8.09e+01, 1.55e+02, 4.06e+02, 6.30e+01, 7.33e+00, 8.36e+01, 1.82e+02, 3.51e+02, 6.65e+02]    []  \n",
            "2000      [1.09e+02, 9.27e+01, 2.13e+02, 3.29e+01, 1.44e+00, 1.31e+00, 1.09e+02, 2.06e+01, 3.51e+00]    [8.80e+01, 8.29e+01, 1.14e+02, 3.29e+01, 1.44e+00, 1.31e+00, 1.09e+02, 2.06e+01, 3.51e+00]    []  \n",
            "3000      [7.32e+01, 8.17e+01, 2.28e+01, 2.69e+01, 1.26e+00, 9.95e-01, 8.70e+01, 1.46e+01, 2.43e+00]    [6.69e+01, 7.61e+01, 2.55e+01, 2.69e+01, 1.26e+00, 9.95e-01, 8.70e+01, 1.46e+01, 2.43e+00]    []  \n",
            "4000      [4.78e+01, 6.15e+01, 1.66e+01, 5.59e+00, 7.75e-01, 2.51e-01, 5.32e+01, 1.05e+01, 2.30e+00]    [4.74e+01, 6.04e+01, 1.68e+01, 5.59e+00, 7.75e-01, 2.51e-01, 5.32e+01, 1.05e+01, 2.30e+00]    []  \n",
            "5000      [3.77e+01, 4.78e+01, 1.34e+01, 2.46e+01, 3.46e+00, 1.73e+00, 3.09e+01, 1.08e+01, 6.49e+00]    [3.92e+01, 4.60e+01, 1.47e+01, 2.46e+01, 3.46e+00, 1.73e+00, 3.09e+01, 1.08e+01, 6.49e+00]    []  \n",
            "6000      [3.68e+01, 4.05e+01, 1.18e+01, 4.08e-04, 1.05e+00, 1.54e-02, 3.97e+01, 1.24e+01, 5.16e+00]    [3.72e+01, 3.99e+01, 1.29e+01, 4.06e-04, 1.05e+00, 1.54e-02, 3.97e+01, 1.24e+01, 5.16e+00]    []  \n",
            "7000      [3.00e+01, 3.65e+01, 9.96e+00, 7.86e+00, 3.18e+00, 8.69e-01, 2.39e+01, 1.03e+01, 3.42e+00]    [3.14e+01, 3.77e+01, 1.09e+01, 7.86e+00, 3.18e+00, 8.68e-01, 2.39e+01, 1.03e+01, 3.42e+00]    []  \n",
            "8000      [2.71e+01, 3.44e+01, 7.24e+00, 3.15e+00, 1.86e+00, 2.63e-01, 2.23e+01, 1.13e+01, 2.03e+00]    [2.90e+01, 3.65e+01, 7.96e+00, 3.15e+00, 1.86e+00, 2.63e-01, 2.23e+01, 1.13e+01, 2.03e+00]    []  \n",
            "9000      [2.73e+01, 3.36e+01, 7.18e+00, 1.51e+00, 1.03e+00, 4.50e-02, 2.44e+01, 1.26e+01, 2.27e+00]    [2.96e+01, 3.64e+01, 7.90e+00, 1.51e+00, 1.03e+00, 4.50e-02, 2.44e+01, 1.26e+01, 2.27e+00]    []  \n",
            "10000     [3.11e+01, 2.48e+01, 1.16e+01, 8.51e+00, 3.30e+00, 1.00e+00, 2.14e+01, 1.17e+01, 2.92e+00]    [3.36e+01, 2.70e+01, 1.28e+01, 8.51e+00, 3.30e+00, 1.00e+00, 2.14e+01, 1.17e+01, 2.92e+00]    []  \n",
            "\n",
            "Best model at step 8000:\n",
            "  train loss: 1.10e+02\n",
            "  test loss: 1.14e+02\n",
            "  test metric: []\n",
            "\n",
            "'train' took 35.284237 s\n",
            "\n",
            "Estimated beta: 0.4911663830280304\n",
            "Compiling model...\n",
            "Warning: For the backend tensorflow.compat.v1, `external_trainable_variables` is ignored, and all trainable ``tf.Variable`` objects are automatically collected.\n",
            "Building feed-forward neural network...\n",
            "'build' took 0.090028 s\n",
            "\n"
          ]
        },
        {
          "output_type": "stream",
          "name": "stderr",
          "text": [
            "/usr/local/lib/python3.10/dist-packages/deepxde/nn/tensorflow_compat_v1/fnn.py:116: UserWarning: `tf.layers.dense` is deprecated and will be removed in a future version. Please use `tf.keras.layers.Dense` instead.\n",
            "  return tf.layers.dense(\n"
          ]
        },
        {
          "output_type": "stream",
          "name": "stdout",
          "text": [
            "'compile' took 2.817846 s\n",
            "\n",
            "Training model...\n",
            "\n",
            "Step      Train loss                                                                                    Test loss                                                                                     Test metric\n",
            "0         [1.08e-01, 2.36e-01, 4.23e-02, 5.58e+05, 3.85e+04, 3.15e+03, 1.93e+05, 1.64e+05, 6.45e+04]    [1.09e-01, 2.35e-01, 4.15e-02, 5.58e+05, 3.85e+04, 3.15e+03, 1.93e+05, 1.64e+05, 6.45e+04]    []  \n",
            "1000      [5.96e+01, 2.42e+02, 1.37e+02, 6.66e+01, 9.65e-01, 4.11e+01, 1.49e+02, 3.14e+02, 2.83e+02]    [3.37e+01, 1.82e+02, 8.73e+01, 6.66e+01, 9.65e-01, 4.11e+01, 1.49e+02, 3.14e+02, 2.83e+02]    []  \n",
            "2000      [2.64e+01, 8.96e+01, 5.04e+01, 2.07e+01, 1.88e+00, 8.87e+00, 1.01e+02, 3.47e+01, 6.04e+01]    [2.37e+01, 7.41e+01, 4.24e+01, 2.07e+01, 1.88e+00, 8.87e+00, 1.01e+02, 3.47e+01, 6.04e+01]    []  \n",
            "3000      [3.27e+01, 6.24e+01, 4.51e+01, 4.47e+00, 1.24e+00, 5.21e+00, 1.23e+02, 3.00e+01, 5.62e+01]    [3.11e+01, 5.92e+01, 4.17e+01, 4.47e+00, 1.24e+00, 5.21e+00, 1.23e+02, 3.00e+01, 5.62e+01]    []  \n",
            "4000      [3.06e+01, 4.91e+01, 3.90e+01, 1.49e+01, 1.93e+00, 6.14e+00, 1.06e+02, 2.71e+01, 5.06e+01]    [2.89e+01, 4.92e+01, 3.70e+01, 1.49e+01, 1.93e+00, 6.14e+00, 1.06e+02, 2.71e+01, 5.06e+01]    []  \n",
            "5000      [2.80e+01, 3.87e+01, 3.51e+01, 1.63e+01, 2.00e+00, 5.91e+00, 1.04e+02, 2.66e+01, 4.74e+01]    [2.60e+01, 4.05e+01, 3.39e+01, 1.63e+01, 2.00e+00, 5.91e+00, 1.04e+02, 2.66e+01, 4.74e+01]    []  \n",
            "6000      [2.63e+01, 3.13e+01, 3.28e+01, 1.58e+01, 2.04e+00, 5.63e+00, 1.03e+02, 2.65e+01, 4.45e+01]    [2.42e+01, 3.38e+01, 3.18e+01, 1.58e+01, 2.04e+00, 5.63e+00, 1.03e+02, 2.65e+01, 4.45e+01]    []  \n",
            "7000      [2.46e+01, 2.82e+01, 3.17e+01, 9.53e+00, 1.33e-01, 2.55e-01, 2.14e+02, 4.13e+01, 5.86e+01]    [2.14e+01, 3.07e+01, 3.07e+01, 9.53e+00, 1.33e-01, 2.55e-01, 2.14e+02, 4.13e+01, 5.86e+01]    []  \n",
            "8000      [2.48e+01, 2.62e+01, 3.18e+01, 2.49e+01, 2.62e+00, 6.71e+00, 9.39e+01, 2.66e+01, 4.14e+01]    [2.26e+01, 2.88e+01, 3.08e+01, 2.49e+01, 2.62e+00, 6.71e+00, 9.39e+01, 2.66e+01, 4.14e+01]    []  \n",
            "9000      [2.61e+01, 2.55e+01, 3.08e+01, 1.51e+01, 2.14e+00, 5.16e+00, 1.00e+02, 2.70e+01, 4.11e+01]    [2.39e+01, 2.80e+01, 2.98e+01, 1.51e+01, 2.14e+00, 5.16e+00, 1.00e+02, 2.70e+01, 4.11e+01]    []  \n",
            "10000     [2.73e+01, 2.63e+01, 3.06e+01, 9.47e+00, 1.88e+00, 4.26e+00, 1.07e+02, 2.74e+01, 4.19e+01]    [2.54e+01, 2.90e+01, 2.97e+01, 9.47e+00, 1.88e+00, 4.26e+00, 1.07e+02, 2.74e+01, 4.19e+01]    []  \n",
            "\n",
            "Best model at step 9000:\n",
            "  train loss: 2.73e+02\n",
            "  test loss: 2.72e+02\n",
            "  test metric: []\n",
            "\n",
            "'train' took 37.277146 s\n",
            "\n",
            "Estimated beta: 0.48722416162490845\n",
            "Compiling model...\n",
            "Warning: For the backend tensorflow.compat.v1, `external_trainable_variables` is ignored, and all trainable ``tf.Variable`` objects are automatically collected.\n",
            "Building feed-forward neural network...\n",
            "'build' took 0.060989 s\n",
            "\n"
          ]
        },
        {
          "output_type": "stream",
          "name": "stderr",
          "text": [
            "/usr/local/lib/python3.10/dist-packages/deepxde/nn/tensorflow_compat_v1/fnn.py:116: UserWarning: `tf.layers.dense` is deprecated and will be removed in a future version. Please use `tf.keras.layers.Dense` instead.\n",
            "  return tf.layers.dense(\n"
          ]
        },
        {
          "output_type": "stream",
          "name": "stdout",
          "text": [
            "'compile' took 2.695358 s\n",
            "\n",
            "Training model...\n",
            "\n",
            "Step      Train loss                                                                                    Test loss                                                                                     Test metric\n",
            "0         [1.65e-01, 4.20e-01, 9.60e-03, 4.42e+05, 6.30e+04, 5.71e+03, 1.37e+05, 1.74e+05, 8.33e+04]    [1.65e-01, 4.18e-01, 8.43e-03, 4.42e+05, 6.30e+04, 5.71e+03, 1.37e+05, 1.74e+05, 8.33e+04]    []  \n",
            "1000      [3.13e+01, 7.03e+01, 2.66e+01, 2.20e-01, 4.32e-01, 4.30e+00, 8.88e+01, 4.31e+01, 4.70e+01]    [2.76e+01, 6.79e+01, 2.58e+01, 2.20e-01, 4.32e-01, 4.30e+00, 8.88e+01, 4.31e+01, 4.70e+01]    []  \n",
            "2000      [2.40e+01, 7.13e+01, 2.74e+01, 9.48e+00, 1.06e+00, 6.70e+00, 7.30e+01, 3.83e+01, 4.61e+01]    [2.64e+01, 7.53e+01, 2.64e+01, 9.48e+00, 1.06e+00, 6.70e+00, 7.30e+01, 3.83e+01, 4.61e+01]    []  \n",
            "3000      [2.42e+01, 6.57e+01, 2.66e+01, 6.67e+01, 5.03e+00, 1.39e+01, 7.64e+01, 4.41e+01, 4.61e+01]    [2.58e+01, 6.77e+01, 2.59e+01, 6.67e+01, 5.03e+00, 1.39e+01, 7.64e+01, 4.41e+01, 4.61e+01]    []  \n",
            "4000      [2.00e+01, 4.46e+01, 2.19e+01, 1.46e+01, 2.66e+00, 5.10e+00, 7.52e+01, 2.39e+01, 3.06e+01]    [2.21e+01, 4.68e+01, 2.17e+01, 1.46e+01, 2.66e+00, 5.10e+00, 7.52e+01, 2.39e+01, 3.06e+01]    []  \n",
            "5000      [2.21e+01, 4.54e+01, 2.15e+01, 1.00e+01, 2.09e+00, 4.43e+00, 7.79e+01, 2.42e+01, 3.08e+01]    [2.41e+01, 4.81e+01, 2.14e+01, 1.00e+01, 2.09e+00, 4.43e+00, 7.79e+01, 2.42e+01, 3.08e+01]    []  \n",
            "6000      [2.35e+01, 4.75e+01, 2.11e+01, 1.00e+01, 2.01e+00, 4.48e+00, 7.84e+01, 2.43e+01, 3.13e+01]    [2.55e+01, 5.04e+01, 2.10e+01, 1.00e+01, 2.01e+00, 4.48e+00, 7.84e+01, 2.43e+01, 3.13e+01]    []  \n",
            "7000      [2.39e+01, 4.80e+01, 2.10e+01, 1.01e+01, 2.03e+00, 4.49e+00, 7.84e+01, 2.44e+01, 3.12e+01]    [2.62e+01, 5.09e+01, 2.08e+01, 1.01e+01, 2.03e+00, 4.49e+00, 7.84e+01, 2.44e+01, 3.12e+01]    []  \n",
            "8000      [2.42e+01, 4.84e+01, 2.10e+01, 9.57e+00, 1.95e+00, 4.39e+00, 7.89e+01, 2.45e+01, 3.13e+01]    [2.65e+01, 5.13e+01, 2.08e+01, 9.57e+00, 1.95e+00, 4.38e+00, 7.89e+01, 2.45e+01, 3.13e+01]    []  \n",
            "9000      [3.43e+01, 5.04e+01, 2.22e+01, 1.20e+01, 2.80e+00, 4.95e+00, 7.76e+01, 2.39e+01, 3.05e+01]    [3.22e+01, 5.26e+01, 2.17e+01, 1.20e+01, 2.80e+00, 4.95e+00, 7.76e+01, 2.39e+01, 3.05e+01]    []  \n",
            "10000     [2.42e+01, 4.82e+01, 2.11e+01, 2.15e+01, 6.40e+00, 8.11e+00, 7.16e+01, 2.28e+01, 2.93e+01]    [2.65e+01, 5.10e+01, 2.08e+01, 2.15e+01, 6.40e+00, 8.11e+00, 7.16e+01, 2.28e+01, 2.93e+01]    []  \n",
            "\n",
            "Best model at step 5000:\n",
            "  train loss: 2.38e+02\n",
            "  test loss: 2.43e+02\n",
            "  test metric: []\n",
            "\n",
            "'train' took 36.520126 s\n",
            "\n",
            "Estimated beta: 0.47862541675567627\n",
            "Compiling model...\n",
            "Warning: For the backend tensorflow.compat.v1, `external_trainable_variables` is ignored, and all trainable ``tf.Variable`` objects are automatically collected.\n",
            "Building feed-forward neural network...\n",
            "'build' took 0.056798 s\n",
            "\n"
          ]
        },
        {
          "output_type": "stream",
          "name": "stderr",
          "text": [
            "/usr/local/lib/python3.10/dist-packages/deepxde/nn/tensorflow_compat_v1/fnn.py:116: UserWarning: `tf.layers.dense` is deprecated and will be removed in a future version. Please use `tf.keras.layers.Dense` instead.\n",
            "  return tf.layers.dense(\n"
          ]
        },
        {
          "output_type": "stream",
          "name": "stdout",
          "text": [
            "'compile' took 2.737114 s\n",
            "\n",
            "Training model...\n",
            "\n",
            "Step      Train loss                                                                                    Test loss                                                                                     Test metric\n",
            "0         [3.11e-02, 2.66e-02, 4.20e-02, 3.31e+05, 9.97e+04, 1.14e+04, 9.51e+04, 1.88e+05, 1.11e+05]    [3.11e-02, 2.65e-02, 4.20e-02, 3.31e+05, 9.97e+04, 1.14e+04, 9.51e+04, 1.88e+05, 1.11e+05]    []  \n",
            "1000      [1.22e+02, 1.17e+02, 2.29e+01, 7.75e-01, 2.39e-02, 6.39e+00, 1.01e+02, 7.26e+01, 4.56e+01]    [1.06e+02, 1.17e+02, 2.27e+01, 7.75e-01, 2.40e-02, 6.39e+00, 1.01e+02, 7.26e+01, 4.56e+01]    []  \n",
            "2000      [6.68e+01, 1.08e+02, 1.83e+01, 1.17e+01, 1.27e+00, 7.07e+00, 7.58e+01, 4.04e+01, 3.72e+01]    [7.00e+01, 1.10e+02, 1.85e+01, 1.17e+01, 1.27e+00, 7.07e+00, 7.58e+01, 4.04e+01, 3.72e+01]    []  \n",
            "3000      [5.97e+01, 1.02e+02, 1.79e+01, 4.65e+00, 7.76e-01, 5.57e+00, 7.53e+01, 3.56e+01, 3.73e+01]    [6.16e+01, 1.04e+02, 1.80e+01, 4.65e+00, 7.76e-01, 5.57e+00, 7.53e+01, 3.56e+01, 3.73e+01]    []  \n",
            "4000      [5.74e+01, 9.83e+01, 1.78e+01, 4.08e+00, 6.07e-01, 5.27e+00, 7.54e+01, 3.37e+01, 3.71e+01]    [5.86e+01, 9.97e+01, 1.77e+01, 4.08e+00, 6.07e-01, 5.27e+00, 7.54e+01, 3.37e+01, 3.71e+01]    []  \n",
            "5000      [5.69e+01, 9.73e+01, 1.77e+01, 6.05e+00, 6.61e-01, 5.64e+00, 7.37e+01, 3.32e+01, 3.64e+01]    [5.76e+01, 9.90e+01, 1.78e+01, 6.05e+00, 6.61e-01, 5.64e+00, 7.37e+01, 3.32e+01, 3.64e+01]    []  \n",
            "6000      [5.69e+01, 9.77e+01, 1.76e+01, 2.51e+01, 6.76e-01, 8.98e+00, 6.80e+01, 3.83e+01, 3.55e+01]    [5.76e+01, 9.91e+01, 1.78e+01, 2.51e+01, 6.76e-01, 8.98e+00, 6.80e+01, 3.83e+01, 3.55e+01]    []  \n",
            "7000      [5.67e+01, 9.70e+01, 1.76e+01, 5.88e+00, 6.39e-01, 5.59e+00, 7.39e+01, 3.32e+01, 3.64e+01]    [5.73e+01, 9.84e+01, 1.76e+01, 5.88e+00, 6.39e-01, 5.59e+00, 7.39e+01, 3.32e+01, 3.64e+01]    []  \n",
            "8000      [5.67e+01, 9.70e+01, 1.76e+01, 6.14e+00, 6.39e-01, 5.66e+00, 7.37e+01, 3.32e+01, 3.63e+01]    [5.73e+01, 9.83e+01, 1.76e+01, 6.14e+00, 6.39e-01, 5.66e+00, 7.37e+01, 3.32e+01, 3.63e+01]    []  \n",
            "9000      [5.68e+01, 9.70e+01, 1.76e+01, 6.02e+00, 6.35e-01, 5.61e+00, 7.38e+01, 3.32e+01, 3.64e+01]    [5.73e+01, 9.83e+01, 1.76e+01, 6.02e+00, 6.35e-01, 5.61e+00, 7.38e+01, 3.32e+01, 3.64e+01]    []  \n",
            "10000     [5.67e+01, 9.69e+01, 1.76e+01, 6.18e+00, 6.49e-01, 5.68e+00, 7.37e+01, 3.32e+01, 3.63e+01]    [5.73e+01, 9.83e+01, 1.76e+01, 6.18e+00, 6.49e-01, 5.68e+00, 7.37e+01, 3.32e+01, 3.63e+01]    []  \n",
            "\n",
            "Best model at step 10000:\n",
            "  train loss: 3.27e+02\n",
            "  test loss: 3.29e+02\n",
            "  test metric: []\n",
            "\n",
            "'train' took 36.065574 s\n",
            "\n",
            "Estimated beta: 0.46663403511047363\n",
            "Compiling model...\n",
            "Warning: For the backend tensorflow.compat.v1, `external_trainable_variables` is ignored, and all trainable ``tf.Variable`` objects are automatically collected.\n",
            "Building feed-forward neural network...\n",
            "'build' took 0.060318 s\n",
            "\n"
          ]
        },
        {
          "output_type": "stream",
          "name": "stderr",
          "text": [
            "/usr/local/lib/python3.10/dist-packages/deepxde/nn/tensorflow_compat_v1/fnn.py:116: UserWarning: `tf.layers.dense` is deprecated and will be removed in a future version. Please use `tf.keras.layers.Dense` instead.\n",
            "  return tf.layers.dense(\n"
          ]
        },
        {
          "output_type": "stream",
          "name": "stdout",
          "text": [
            "'compile' took 2.732306 s\n",
            "\n",
            "Training model...\n",
            "\n",
            "Step      Train loss                                                                                    Test loss                                                                                     Test metric\n",
            "0         [9.96e-05, 1.23e+00, 5.49e-01, 2.33e+05, 1.36e+05, 2.08e+04, 6.34e+04, 1.86e+05, 1.42e+05]    [9.95e-05, 1.23e+00, 5.48e-01, 2.33e+05, 1.36e+05, 2.08e+04, 6.34e+04, 1.86e+05, 1.42e+05]    []  \n",
            "1000      [1.59e+02, 3.81e+02, 3.55e+02, 2.02e+00, 3.00e+01, 5.33e+01, 2.68e+02, 7.62e+02, 1.05e+03]    [1.58e+02, 3.07e+02, 3.38e+02, 2.02e+00, 3.00e+01, 5.33e+01, 2.68e+02, 7.62e+02, 1.05e+03]    []  \n",
            "2000      [1.13e+02, 1.88e+02, 1.30e+01, 8.65e-01, 1.09e+00, 9.36e+00, 9.15e+01, 1.00e+02, 5.47e+01]    [1.09e+02, 1.84e+02, 1.36e+01, 8.65e-01, 1.09e+00, 9.36e+00, 9.15e+01, 1.00e+02, 5.47e+01]    []  \n",
            "3000      [1.09e+02, 1.97e+02, 1.45e+01, 1.28e+00, 1.03e+00, 8.99e+00, 8.79e+01, 1.04e+02, 4.98e+01]    [1.05e+02, 1.93e+02, 1.53e+01, 1.28e+00, 1.03e+00, 8.99e+00, 8.79e+01, 1.04e+02, 4.98e+01]    []  \n",
            "4000      [1.10e+02, 1.90e+02, 1.46e+01, 2.37e+00, 9.80e-01, 9.73e+00, 8.83e+01, 1.01e+02, 4.69e+01]    [1.06e+02, 1.87e+02, 1.56e+01, 2.37e+00, 9.80e-01, 9.73e+00, 8.83e+01, 1.01e+02, 4.69e+01]    []  \n",
            "5000      [1.09e+02, 1.89e+02, 1.54e+01, 1.38e+00, 9.92e-01, 8.95e+00, 8.88e+01, 9.98e+01, 4.67e+01]    [1.06e+02, 1.84e+02, 1.64e+01, 1.38e+00, 9.92e-01, 8.95e+00, 8.88e+01, 9.98e+01, 4.67e+01]    []  \n",
            "6000      [1.09e+02, 1.85e+02, 1.60e+01, 5.89e+00, 6.84e-01, 1.28e+01, 9.01e+01, 1.03e+02, 4.40e+01]    [1.05e+02, 1.81e+02, 1.71e+01, 5.89e+00, 6.84e-01, 1.28e+01, 9.01e+01, 1.03e+02, 4.40e+01]    []  \n",
            "7000      [1.09e+02, 1.77e+02, 1.76e+01, 2.01e+00, 8.40e-01, 9.61e+00, 8.75e+01, 9.87e+01, 4.61e+01]    [1.05e+02, 1.76e+02, 1.89e+01, 2.01e+00, 8.40e-01, 9.61e+00, 8.75e+01, 9.87e+01, 4.61e+01]    []  \n",
            "8000      [1.01e+02, 1.62e+02, 1.45e+01, 2.26e-02, 5.57e-01, 6.18e+00, 8.52e+01, 9.35e+01, 4.93e+01]    [9.58e+01, 1.62e+02, 1.55e+01, 2.26e-02, 5.57e-01, 6.18e+00, 8.52e+01, 9.35e+01, 4.93e+01]    []  \n",
            "9000      [8.42e+01, 1.42e+02, 1.19e+01, 1.17e+00, 1.21e+00, 2.83e+00, 8.60e+01, 8.62e+01, 5.37e+01]    [8.00e+01, 1.42e+02, 1.24e+01, 1.17e+00, 1.21e+00, 2.83e+00, 8.60e+01, 8.62e+01, 5.37e+01]    []  \n",
            "10000     [6.24e+01, 1.09e+02, 1.21e+01, 1.70e+00, 2.91e-04, 5.05e+00, 6.81e+01, 3.64e+01, 3.97e+01]    [5.90e+01, 1.08e+02, 1.30e+01, 1.70e+00, 2.92e-04, 5.05e+00, 6.81e+01, 3.64e+01, 3.97e+01]    []  \n",
            "\n",
            "Best model at step 10000:\n",
            "  train loss: 3.34e+02\n",
            "  test loss: 3.31e+02\n",
            "  test metric: []\n",
            "\n",
            "'train' took 38.494962 s\n",
            "\n",
            "Estimated beta: 0.45013999938964844\n",
            "Compiling model...\n",
            "Warning: For the backend tensorflow.compat.v1, `external_trainable_variables` is ignored, and all trainable ``tf.Variable`` objects are automatically collected.\n",
            "Building feed-forward neural network...\n",
            "'build' took 0.060214 s\n",
            "\n"
          ]
        },
        {
          "output_type": "stream",
          "name": "stderr",
          "text": [
            "/usr/local/lib/python3.10/dist-packages/deepxde/nn/tensorflow_compat_v1/fnn.py:116: UserWarning: `tf.layers.dense` is deprecated and will be removed in a future version. Please use `tf.keras.layers.Dense` instead.\n",
            "  return tf.layers.dense(\n"
          ]
        },
        {
          "output_type": "stream",
          "name": "stdout",
          "text": [
            "'compile' took 2.877775 s\n",
            "\n",
            "Training model...\n",
            "\n",
            "Step      Train loss                                                                                    Test loss                                                                                     Test metric\n",
            "0         [3.47e-03, 9.22e-01, 1.46e-01, 1.53e+05, 1.75e+05, 3.32e+04, 4.01e+04, 1.85e+05, 1.72e+05]    [3.47e-03, 9.19e-01, 1.44e-01, 1.53e+05, 1.75e+05, 3.32e+04, 4.01e+04, 1.85e+05, 1.72e+05]    []  \n",
            "1000      [1.01e+02, 3.50e+02, 1.60e+00, 4.76e-01, 1.05e+02, 1.46e+01, 1.41e+02, 1.01e+03, 7.41e+01]    [9.70e+01, 2.95e+02, 1.29e+00, 4.76e-01, 1.05e+02, 1.46e+01, 1.41e+02, 1.01e+03, 7.41e+01]    []  \n",
            "2000      [1.83e+02, 1.02e+02, 4.98e+01, 1.81e+00, 4.53e-01, 4.83e-02, 7.15e+01, 1.81e+01, 2.13e+01]    [1.17e+02, 9.19e+01, 3.35e+01, 1.81e+00, 4.53e-01, 4.82e-02, 7.15e+01, 1.81e+01, 2.13e+01]    []  \n",
            "3000      [1.15e+02, 1.02e+02, 1.66e+01, 3.66e-02, 4.73e-01, 4.51e+00, 6.22e+01, 3.30e+01, 2.85e+01]    [9.55e+01, 9.75e+01, 1.26e+01, 3.66e-02, 4.73e-01, 4.51e+00, 6.22e+01, 3.30e+01, 2.85e+01]    []  \n",
            "4000      [6.89e+01, 9.09e+01, 1.03e+01, 1.90e+00, 1.98e-01, 7.24e+00, 5.85e+01, 3.04e+01, 4.22e+01]    [6.38e+01, 9.12e+01, 1.06e+01, 1.90e+00, 1.98e-01, 7.24e+00, 5.85e+01, 3.04e+01, 4.22e+01]    []  \n",
            "5000      [6.92e+01, 9.24e+01, 1.07e+01, 2.04e+00, 2.62e-01, 7.28e+00, 5.75e+01, 3.22e+01, 4.16e+01]    [6.35e+01, 9.18e+01, 1.12e+01, 2.04e+00, 2.62e-01, 7.28e+00, 5.75e+01, 3.22e+01, 4.16e+01]    []  \n",
            "6000      [6.95e+01, 9.22e+01, 1.09e+01, 1.93e+00, 2.56e-01, 7.16e+00, 5.75e+01, 3.21e+01, 4.16e+01]    [6.38e+01, 9.16e+01, 1.14e+01, 1.93e+00, 2.56e-01, 7.16e+00, 5.75e+01, 3.21e+01, 4.16e+01]    []  \n",
            "7000      [6.96e+01, 9.20e+01, 1.09e+01, 2.01e+00, 2.59e-01, 7.23e+00, 5.75e+01, 3.21e+01, 4.15e+01]    [6.39e+01, 9.14e+01, 1.14e+01, 2.01e+00, 2.59e-01, 7.23e+00, 5.75e+01, 3.21e+01, 4.15e+01]    []  \n",
            "8000      [6.96e+01, 9.18e+01, 1.09e+01, 1.96e+00, 2.60e-01, 7.18e+00, 5.75e+01, 3.21e+01, 4.16e+01]    [6.40e+01, 9.13e+01, 1.15e+01, 1.96e+00, 2.60e-01, 7.18e+00, 5.75e+01, 3.21e+01, 4.16e+01]    []  \n",
            "9000      [6.96e+01, 9.18e+01, 1.09e+01, 2.19e+00, 2.94e-01, 7.35e+00, 5.74e+01, 3.21e+01, 4.14e+01]    [6.39e+01, 9.12e+01, 1.14e+01, 2.19e+00, 2.94e-01, 7.35e+00, 5.74e+01, 3.21e+01, 4.14e+01]    []  \n",
            "10000     [7.03e+01, 9.22e+01, 1.12e+01, 1.56e+01, 1.74e+00, 1.39e+01, 5.81e+01, 3.62e+01, 3.77e+01]    [6.36e+01, 9.08e+01, 1.18e+01, 1.56e+01, 1.74e+00, 1.39e+01, 5.81e+01, 3.62e+01, 3.77e+01]    []  \n",
            "\n",
            "Best model at step 4000:\n",
            "  train loss: 3.11e+02\n",
            "  test loss: 3.06e+02\n",
            "  test metric: []\n",
            "\n",
            "'train' took 37.363955 s\n",
            "\n",
            "Estimated beta: 0.4364454448223114\n",
            "Compiling model...\n",
            "Warning: For the backend tensorflow.compat.v1, `external_trainable_variables` is ignored, and all trainable ``tf.Variable`` objects are automatically collected.\n",
            "Building feed-forward neural network...\n",
            "'build' took 0.058631 s\n",
            "\n"
          ]
        },
        {
          "output_type": "stream",
          "name": "stderr",
          "text": [
            "/usr/local/lib/python3.10/dist-packages/deepxde/nn/tensorflow_compat_v1/fnn.py:116: UserWarning: `tf.layers.dense` is deprecated and will be removed in a future version. Please use `tf.keras.layers.Dense` instead.\n",
            "  return tf.layers.dense(\n"
          ]
        },
        {
          "output_type": "stream",
          "name": "stdout",
          "text": [
            "'compile' took 9.407640 s\n",
            "\n",
            "Training model...\n",
            "\n",
            "Step      Train loss                                                                                    Test loss                                                                                     Test metric\n",
            "0         [1.36e-02, 2.54e-01, 9.17e-02, 9.64e+04, 2.11e+05, 5.34e+04, 2.47e+04, 1.86e+05, 2.12e+05]    [1.36e-02, 2.54e-01, 9.14e-02, 9.64e+04, 2.11e+05, 5.34e+04, 2.47e+04, 1.86e+05, 2.12e+05]    []  \n",
            "1000      [1.31e+02, 2.58e+02, 1.55e+01, 1.02e+01, 1.31e+02, 3.76e+00, 3.43e+02, 8.47e+02, 7.68e+01]    [1.22e+02, 2.25e+02, 1.51e+01, 1.02e+01, 1.31e+02, 3.76e+00, 3.43e+02, 8.47e+02, 7.68e+01]    []  \n",
            "2000      [7.79e+01, 8.80e+01, 1.27e+01, 2.56e+00, 4.75e+00, 9.99e+00, 5.63e+01, 5.00e+01, 5.90e+01]    [7.29e+01, 8.18e+01, 1.29e+01, 2.56e+00, 4.75e+00, 9.99e+00, 5.63e+01, 5.00e+01, 5.90e+01]    []  \n",
            "3000      [3.23e+02, 1.09e+02, 9.88e+01, 4.32e+00, 2.89e+00, 2.44e+00, 5.45e+01, 5.51e+01, 1.52e+01]    [1.90e+02, 1.12e+02, 4.46e+01, 4.32e+00, 2.89e+00, 2.44e+00, 5.45e+01, 5.51e+01, 1.52e+01]    []  \n",
            "4000      [1.91e+02, 8.27e+01, 4.68e+01, 1.89e-01, 3.79e+00, 7.16e+00, 5.52e+01, 3.97e+01, 1.44e+01]    [1.33e+02, 8.75e+01, 2.89e+01, 1.89e-01, 3.79e+00, 7.16e+00, 5.52e+01, 3.97e+01, 1.44e+01]    []  \n",
            "5000      [2.33e+02, 5.49e+01, 1.17e+02, 1.67e+00, 4.24e-03, 6.15e-01, 4.66e+01, 1.79e+01, 1.61e+01]    [1.36e+02, 6.00e+01, 5.98e+01, 1.67e+00, 4.24e-03, 6.15e-01, 4.66e+01, 1.79e+01, 1.61e+01]    []  \n",
            "6000      [1.20e+02, 5.23e+01, 3.85e+01, 6.63e-04, 8.80e-03, 2.17e+00, 4.99e+01, 1.36e+01, 1.66e+01]    [9.86e+01, 4.89e+01, 3.15e+01, 6.63e-04, 8.79e-03, 2.17e+00, 4.99e+01, 1.36e+01, 1.66e+01]    []  \n",
            "7000      [4.21e+01, 5.24e+01, 1.53e+01, 1.74e+00, 2.12e-01, 4.99e+00, 4.35e+01, 1.18e+01, 3.72e+01]    [3.45e+01, 4.71e+01, 1.50e+01, 1.74e+00, 2.12e-01, 4.99e+00, 4.35e+01, 1.18e+01, 3.72e+01]    []  \n",
            "8000      [5.26e+01, 6.56e+01, 1.08e+01, 6.01e+00, 3.68e+00, 1.01e+01, 4.28e+01, 2.60e+01, 4.06e+01]    [4.49e+01, 6.35e+01, 1.10e+01, 6.01e+00, 3.68e+00, 1.01e+01, 4.28e+01, 2.60e+01, 4.06e+01]    []  \n",
            "9000      [5.24e+01, 6.33e+01, 1.03e+01, 1.66e+00, 1.35e+00, 7.90e+00, 4.32e+01, 2.56e+01, 4.24e+01]    [4.53e+01, 6.30e+01, 1.05e+01, 1.66e+00, 1.35e+00, 7.90e+00, 4.32e+01, 2.56e+01, 4.24e+01]    []  \n",
            "10000     [5.25e+01, 6.33e+01, 1.04e+01, 2.28e+00, 7.40e-01, 9.65e+00, 4.33e+01, 2.63e+01, 4.10e+01]    [4.55e+01, 6.32e+01, 1.07e+01, 2.28e+00, 7.40e-01, 9.65e+00, 4.33e+01, 2.63e+01, 4.10e+01]    []  \n",
            "\n",
            "Best model at step 7000:\n",
            "  train loss: 2.09e+02\n",
            "  test loss: 1.96e+02\n",
            "  test metric: []\n",
            "\n",
            "'train' took 39.181243 s\n",
            "\n",
            "Estimated beta: 0.4262721538543701\n",
            "Compiling model...\n",
            "Warning: For the backend tensorflow.compat.v1, `external_trainable_variables` is ignored, and all trainable ``tf.Variable`` objects are automatically collected.\n",
            "Building feed-forward neural network...\n",
            "'build' took 0.059787 s\n",
            "\n"
          ]
        },
        {
          "output_type": "stream",
          "name": "stderr",
          "text": [
            "/usr/local/lib/python3.10/dist-packages/deepxde/nn/tensorflow_compat_v1/fnn.py:116: UserWarning: `tf.layers.dense` is deprecated and will be removed in a future version. Please use `tf.keras.layers.Dense` instead.\n",
            "  return tf.layers.dense(\n"
          ]
        },
        {
          "output_type": "stream",
          "name": "stdout",
          "text": [
            "'compile' took 2.782902 s\n",
            "\n",
            "Training model...\n",
            "\n",
            "Step      Train loss                                                                                    Test loss                                                                                     Test metric\n",
            "0         [1.16e-04, 5.83e-01, 3.85e-01, 6.01e+04, 2.30e+05, 7.70e+04, 1.57e+04, 1.76e+05, 2.48e+05]    [1.16e-04, 5.84e-01, 3.85e-01, 6.01e+04, 2.30e+05, 7.70e+04, 1.57e+04, 1.76e+05, 2.48e+05]    []  \n",
            "1000      [1.19e+02, 1.82e+02, 1.10e+02, 6.08e+01, 6.05e+01, 9.97e+00, 4.32e+02, 3.64e+02, 1.28e+02]    [1.17e+02, 1.43e+02, 9.67e+01, 6.08e+01, 6.05e+01, 9.97e+00, 4.32e+02, 3.64e+02, 1.28e+02]    []  \n",
            "2000      [5.89e+01, 1.13e+02, 1.32e+01, 3.50e-02, 3.64e+00, 7.67e+00, 4.97e+01, 5.16e+01, 5.10e+01]    [5.14e+01, 9.85e+01, 1.19e+01, 3.50e-02, 3.64e+00, 7.67e+00, 4.97e+01, 5.16e+01, 5.10e+01]    []  \n",
            "3000      [5.71e+01, 7.98e+01, 1.28e+01, 6.50e-01, 2.16e+00, 6.40e+00, 4.73e+01, 5.88e+01, 5.44e+01]    [5.06e+01, 8.46e+01, 1.07e+01, 6.50e-01, 2.16e+00, 6.40e+00, 4.73e+01, 5.88e+01, 5.44e+01]    []  \n",
            "4000      [5.76e+01, 7.35e+01, 1.29e+01, 8.13e-01, 7.24e+00, 1.24e+01, 4.81e+01, 5.19e+01, 4.83e+01]    [5.02e+01, 7.71e+01, 1.09e+01, 8.13e-01, 7.24e+00, 1.24e+01, 4.81e+01, 5.19e+01, 4.83e+01]    []  \n",
            "5000      [5.61e+01, 6.64e+01, 1.28e+01, 6.86e-02, 4.78e+00, 9.86e+00, 4.58e+01, 5.27e+01, 5.08e+01]    [4.92e+01, 6.97e+01, 1.08e+01, 6.86e-02, 4.78e+00, 9.86e+00, 4.58e+01, 5.27e+01, 5.08e+01]    []  \n",
            "6000      [5.47e+01, 5.98e+01, 1.22e+01, 1.86e+00, 8.87e+00, 1.38e+01, 4.56e+01, 5.19e+01, 4.73e+01]    [4.73e+01, 6.18e+01, 1.05e+01, 1.86e+00, 8.87e+00, 1.38e+01, 4.56e+01, 5.19e+01, 4.73e+01]    []  \n",
            "7000      [4.09e+01, 4.47e+01, 1.16e+01, 4.90e-04, 3.36e-01, 7.00e+00, 3.24e+01, 2.93e+01, 5.16e+01]    [3.41e+01, 4.57e+01, 1.09e+01, 4.90e-04, 3.36e-01, 7.00e+00, 3.24e+01, 2.93e+01, 5.16e+01]    []  \n",
            "8000      [4.40e+01, 4.40e+01, 1.31e+01, 1.41e+01, 9.75e+00, 2.18e+01, 3.20e+01, 3.21e+01, 4.14e+01]    [3.55e+01, 4.47e+01, 1.24e+01, 1.41e+01, 9.75e+00, 2.18e+01, 3.20e+01, 3.21e+01, 4.14e+01]    []  \n",
            "9000      [4.11e+01, 4.17e+01, 1.23e+01, 9.09e-01, 1.61e+00, 8.80e+00, 3.05e+01, 2.26e+01, 4.63e+01]    [3.42e+01, 4.30e+01, 1.16e+01, 9.09e-01, 1.61e+00, 8.80e+00, 3.05e+01, 2.26e+01, 4.63e+01]    []  \n",
            "10000     [4.11e+01, 4.19e+01, 1.29e+01, 1.83e+00, 2.50e+00, 9.53e+00, 2.99e+01, 2.21e+01, 4.46e+01]    [3.41e+01, 4.29e+01, 1.22e+01, 1.83e+00, 2.50e+00, 9.53e+00, 2.99e+01, 2.21e+01, 4.46e+01]    []  \n",
            "\n",
            "Best model at step 9000:\n",
            "  train loss: 2.06e+02\n",
            "  test loss: 1.99e+02\n",
            "  test metric: []\n",
            "\n",
            "'train' took 37.676416 s\n",
            "\n",
            "Estimated beta: 0.42263442277908325\n",
            "Compiling model...\n",
            "Warning: For the backend tensorflow.compat.v1, `external_trainable_variables` is ignored, and all trainable ``tf.Variable`` objects are automatically collected.\n",
            "Building feed-forward neural network...\n",
            "'build' took 0.059644 s\n",
            "\n"
          ]
        },
        {
          "output_type": "stream",
          "name": "stderr",
          "text": [
            "/usr/local/lib/python3.10/dist-packages/deepxde/nn/tensorflow_compat_v1/fnn.py:116: UserWarning: `tf.layers.dense` is deprecated and will be removed in a future version. Please use `tf.keras.layers.Dense` instead.\n",
            "  return tf.layers.dense(\n"
          ]
        },
        {
          "output_type": "stream",
          "name": "stdout",
          "text": [
            "'compile' took 3.119284 s\n",
            "\n",
            "Training model...\n",
            "\n",
            "Step      Train loss                                                                                    Test loss                                                                                     Test metric\n",
            "0         [4.74e-03, 1.52e+00, 3.38e-01, 3.69e+04, 2.25e+05, 1.06e+05, 9.91e+03, 1.50e+05, 2.85e+05]    [4.74e-03, 1.52e+00, 3.37e-01, 3.69e+04, 2.25e+05, 1.06e+05, 9.91e+03, 1.50e+05, 2.85e+05]    []  \n",
            "1000      [8.68e+01, 9.35e+01, 2.95e+01, 2.40e+01, 4.04e+01, 2.50e+00, 2.98e+02, 2.20e+02, 7.41e+01]    [8.55e+01, 7.50e+01, 2.72e+01, 2.40e+01, 4.04e+01, 2.50e+00, 2.98e+02, 2.20e+02, 7.41e+01]    []  \n",
            "2000      [7.91e+01, 9.62e+01, 2.69e+01, 3.43e+01, 2.13e+01, 5.83e-01, 2.61e+02, 2.72e+02, 7.05e+01]    [7.81e+01, 8.26e+01, 2.47e+01, 3.43e+01, 2.13e+01, 5.83e-01, 2.61e+02, 2.72e+02, 7.05e+01]    []  \n",
            "3000      [5.75e+01, 7.09e+01, 1.90e+01, 7.60e+00, 4.41e+01, 8.45e+00, 1.25e+02, 2.75e+02, 4.78e+01]    [5.59e+01, 6.93e+01, 1.73e+01, 7.60e+00, 4.41e+01, 8.45e+00, 1.25e+02, 2.75e+02, 4.78e+01]    []  \n",
            "4000      [4.08e+01, 2.84e+01, 1.57e+01, 1.05e-01, 9.66e+00, 1.18e+01, 2.81e+01, 5.95e+01, 5.85e+01]    [3.68e+01, 2.94e+01, 1.31e+01, 1.05e-01, 9.66e+00, 1.18e+01, 2.81e+01, 5.95e+01, 5.85e+01]    []  \n",
            "5000      [3.82e+01, 4.50e+01, 1.54e+01, 1.02e-01, 5.44e+00, 9.79e+00, 2.74e+01, 4.44e+01, 5.38e+01]    [3.37e+01, 4.22e+01, 1.42e+01, 1.02e-01, 5.44e+00, 9.79e+00, 2.74e+01, 4.44e+01, 5.38e+01]    []  \n",
            "6000      [3.89e+01, 9.03e+01, 1.73e+01, 1.04e-01, 2.25e+00, 6.80e+00, 2.77e+01, 4.89e+01, 5.73e+01]    [3.38e+01, 5.82e+01, 1.55e+01, 1.04e-01, 2.25e+00, 6.80e+00, 2.77e+01, 4.89e+01, 5.73e+01]    []  \n",
            "7000      [3.81e+01, 5.16e+01, 1.61e+01, 9.76e-02, 5.16e+00, 9.64e+00, 2.73e+01, 4.39e+01, 5.29e+01]    [3.34e+01, 4.43e+01, 1.47e+01, 9.76e-02, 5.16e+00, 9.64e+00, 2.73e+01, 4.39e+01, 5.29e+01]    []  \n",
            "8000      [3.67e+01, 3.44e+01, 1.38e+01, 1.53e-01, 5.01e+00, 9.94e+00, 2.68e+01, 4.11e+01, 4.82e+01]    [3.19e+01, 3.64e+01, 1.21e+01, 1.53e-01, 5.01e+00, 9.94e+00, 2.68e+01, 4.11e+01, 4.82e+01]    []  \n",
            "9000      [3.53e+01, 3.11e+01, 1.42e+01, 1.36e-01, 4.50e+00, 9.31e+00, 2.64e+01, 3.92e+01, 4.68e+01]    [3.02e+01, 3.30e+01, 1.23e+01, 1.36e-01, 4.50e+00, 9.31e+00, 2.64e+01, 3.92e+01, 4.68e+01]    []  \n",
            "10000     [2.86e+01, 2.93e+01, 1.59e+01, 7.39e-01, 2.49e+00, 8.61e+00, 2.00e+01, 2.27e+01, 4.61e+01]    [2.34e+01, 2.94e+01, 1.44e+01, 7.39e-01, 2.49e+00, 8.61e+00, 2.00e+01, 2.27e+01, 4.61e+01]    []  \n",
            "\n",
            "Best model at step 10000:\n",
            "  train loss: 1.74e+02\n",
            "  test loss: 1.68e+02\n",
            "  test metric: []\n",
            "\n",
            "'train' took 39.235222 s\n",
            "\n",
            "Estimated beta: 0.4284425973892212\n",
            "Compiling model...\n",
            "Warning: For the backend tensorflow.compat.v1, `external_trainable_variables` is ignored, and all trainable ``tf.Variable`` objects are automatically collected.\n",
            "Building feed-forward neural network...\n",
            "'build' took 0.088746 s\n",
            "\n"
          ]
        },
        {
          "output_type": "stream",
          "name": "stderr",
          "text": [
            "/usr/local/lib/python3.10/dist-packages/deepxde/nn/tensorflow_compat_v1/fnn.py:116: UserWarning: `tf.layers.dense` is deprecated and will be removed in a future version. Please use `tf.keras.layers.Dense` instead.\n",
            "  return tf.layers.dense(\n"
          ]
        },
        {
          "output_type": "stream",
          "name": "stdout",
          "text": [
            "'compile' took 3.344090 s\n",
            "\n",
            "Training model...\n",
            "\n",
            "Step      Train loss                                                                                    Test loss                                                                                     Test metric\n",
            "0         [1.42e-02, 4.16e-01, 3.76e-01, 2.29e+04, 2.20e+05, 1.45e+05, 6.44e+03, 1.37e+05, 3.36e+05]    [1.42e-02, 4.17e-01, 3.76e-01, 2.29e+04, 2.20e+05, 1.45e+05, 6.44e+03, 1.37e+05, 3.36e+05]    []  \n",
            "1000      [5.78e+01, 2.77e+01, 4.19e+01, 1.32e+01, 2.20e+01, 1.41e+00, 1.73e+02, 1.03e+02, 9.08e+01]    [5.30e+01, 2.33e+01, 3.63e+01, 1.32e+01, 2.20e+01, 1.41e+00, 1.73e+02, 1.03e+02, 9.08e+01]    []  \n",
            "2000      [5.71e+01, 2.95e+01, 4.15e+01, 7.93e+00, 4.07e+01, 3.15e+00, 1.82e+02, 8.90e+01, 8.94e+01]    [5.20e+01, 2.50e+01, 3.60e+01, 7.93e+00, 4.07e+01, 3.15e+00, 1.82e+02, 8.90e+01, 8.94e+01]    []  \n",
            "3000      [5.60e+01, 3.01e+01, 3.98e+01, 1.09e+01, 2.82e+01, 1.98e+00, 1.71e+02, 1.04e+02, 8.65e+01]    [5.10e+01, 2.59e+01, 3.43e+01, 1.09e+01, 2.82e+01, 1.98e+00, 1.71e+02, 1.04e+02, 8.65e+01]    []  \n",
            "4000      [5.80e+01, 2.47e+01, 3.87e+01, 1.23e+01, 2.35e+01, 1.69e+00, 1.66e+02, 1.13e+02, 8.29e+01]    [5.14e+01, 2.45e+01, 3.27e+01, 1.23e+01, 2.35e+01, 1.69e+00, 1.66e+02, 1.13e+02, 8.29e+01]    []  \n",
            "5000      [5.05e+01, 4.78e+01, 3.10e+01, 1.08e+01, 2.66e+01, 2.71e+00, 1.57e+02, 1.22e+02, 7.10e+01]    [4.80e+01, 3.32e+01, 2.76e+01, 1.08e+01, 2.66e+01, 2.71e+00, 1.57e+02, 1.22e+02, 7.10e+01]    []  \n",
            "6000      [5.03e+01, 3.72e+01, 2.24e+01, 8.77e+00, 2.82e+01, 5.91e+00, 1.53e+02, 1.10e+02, 5.13e+01]    [4.73e+01, 2.90e+01, 1.88e+01, 8.77e+00, 2.82e+01, 5.91e+00, 1.53e+02, 1.10e+02, 5.13e+01]    []  \n",
            "7000      [3.68e+01, 2.26e+01, 1.30e+01, 3.17e+00, 1.40e+01, 1.44e+01, 7.53e+01, 5.24e+01, 5.56e+01]    [3.36e+01, 2.26e+01, 1.08e+01, 3.17e+00, 1.40e+01, 1.44e+01, 7.53e+01, 5.24e+01, 5.56e+01]    []  \n",
            "8000      [2.13e+01, 1.50e+01, 1.67e+01, 1.88e-01, 1.27e-01, 6.92e+00, 1.43e+01, 2.88e+01, 5.45e+01]    [1.70e+01, 1.64e+01, 1.39e+01, 1.88e-01, 1.27e-01, 6.92e+00, 1.43e+01, 2.88e+01, 5.45e+01]    []  \n",
            "9000      [1.91e+01, 1.57e+01, 1.91e+01, 4.35e-01, 8.17e+00, 1.04e+01, 1.24e+01, 1.71e+01, 4.58e+01]    [1.46e+01, 1.72e+01, 1.63e+01, 4.35e-01, 8.17e+00, 1.04e+01, 1.24e+01, 1.71e+01, 4.58e+01]    []  \n",
            "10000     [1.96e+01, 1.29e+01, 1.73e+01, 8.57e+00, 4.96e+00, 2.05e+01, 1.24e+01, 5.53e+01, 4.03e+01]    [1.51e+01, 1.38e+01, 1.47e+01, 8.57e+00, 4.96e+00, 2.05e+01, 1.24e+01, 5.53e+01, 4.03e+01]    []  \n",
            "\n",
            "Best model at step 9000:\n",
            "  train loss: 1.48e+02\n",
            "  test loss: 1.42e+02\n",
            "  test metric: []\n",
            "\n",
            "'train' took 39.049159 s\n",
            "\n",
            "Estimated beta: 0.44039666652679443\n",
            "Compiling model...\n",
            "Warning: For the backend tensorflow.compat.v1, `external_trainable_variables` is ignored, and all trainable ``tf.Variable`` objects are automatically collected.\n",
            "Building feed-forward neural network...\n",
            "'build' took 0.058377 s\n",
            "\n"
          ]
        },
        {
          "output_type": "stream",
          "name": "stderr",
          "text": [
            "/usr/local/lib/python3.10/dist-packages/deepxde/nn/tensorflow_compat_v1/fnn.py:116: UserWarning: `tf.layers.dense` is deprecated and will be removed in a future version. Please use `tf.keras.layers.Dense` instead.\n",
            "  return tf.layers.dense(\n"
          ]
        },
        {
          "output_type": "stream",
          "name": "stdout",
          "text": [
            "'compile' took 2.885744 s\n",
            "\n",
            "Training model...\n",
            "\n",
            "Step      Train loss                                                                                    Test loss                                                                                     Test metric\n",
            "0         [2.63e-02, 3.69e-01, 4.97e-02, 1.31e+04, 2.11e+05, 1.85e+05, 3.58e+03, 1.26e+05, 3.78e+05]    [2.63e-02, 3.68e-01, 4.92e-02, 1.31e+04, 2.11e+05, 1.85e+05, 3.58e+03, 1.26e+05, 3.78e+05]    []  \n",
            "1000      [1.35e+02, 1.84e+02, 3.70e+02, 5.05e+00, 7.07e+02, 2.28e+03, 1.40e+02, 1.73e+03, 3.76e+03]    [1.20e+02, 1.31e+02, 3.71e+02, 5.05e+00, 7.07e+02, 2.28e+03, 1.40e+02, 1.73e+03, 3.76e+03]    []  \n",
            "2000      [3.32e+01, 1.92e+01, 4.28e+01, 1.07e+01, 2.01e+00, 2.52e-01, 8.71e+01, 9.14e+01, 8.82e+01]    [2.98e+01, 1.73e+01, 3.72e+01, 1.07e+01, 2.01e+00, 2.52e-01, 8.71e+01, 9.14e+01, 8.82e+01]    []  \n",
            "3000      [3.32e+01, 1.93e+01, 4.20e+01, 6.24e+00, 1.26e+01, 1.25e+00, 9.06e+01, 6.51e+01, 8.46e+01]    [2.95e+01, 1.76e+01, 3.65e+01, 6.24e+00, 1.26e+01, 1.25e+00, 9.06e+01, 6.51e+01, 8.46e+01]    []  \n",
            "4000      [1.63e+01, 1.34e+01, 1.95e+01, 1.08e-01, 4.43e+00, 8.92e+00, 9.98e+00, 3.18e+01, 4.88e+01]    [1.33e+01, 1.45e+01, 1.62e+01, 1.08e-01, 4.43e+00, 8.92e+00, 9.98e+00, 3.18e+01, 4.88e+01]    []  \n",
            "5000      [1.54e+01, 1.21e+01, 1.89e+01, 1.37e-01, 2.27e-01, 6.93e+00, 1.03e+01, 4.44e+01, 5.11e+01]    [1.26e+01, 1.32e+01, 1.56e+01, 1.37e-01, 2.27e-01, 6.93e+00, 1.03e+01, 4.44e+01, 5.11e+01]    []  \n",
            "6000      [1.55e+01, 1.14e+01, 1.84e+01, 5.70e-03, 1.31e+00, 7.96e+00, 9.99e+00, 3.83e+01, 4.91e+01]    [1.27e+01, 1.25e+01, 1.52e+01, 5.70e-03, 1.31e+00, 7.96e+00, 9.99e+00, 3.83e+01, 4.91e+01]    []  \n",
            "7000      [1.54e+01, 1.18e+01, 1.85e+01, 1.74e-01, 4.22e+00, 8.83e+00, 9.45e+00, 2.92e+01, 4.68e+01]    [1.24e+01, 1.25e+01, 1.52e+01, 1.74e-01, 4.22e+00, 8.83e+00, 9.45e+00, 2.92e+01, 4.68e+01]    []  \n",
            "8000      [1.31e+01, 1.08e+01, 1.88e+01, 5.95e-01, 3.99e+00, 7.82e+00, 7.54e+00, 2.31e+01, 4.89e+01]    [1.00e+01, 1.17e+01, 1.56e+01, 5.95e-01, 3.99e+00, 7.82e+00, 7.54e+00, 2.31e+01, 4.89e+01]    []  \n",
            "9000      [1.27e+01, 9.99e+00, 1.95e+01, 1.03e+00, 5.35e+00, 7.72e+00, 7.16e+00, 2.10e+01, 4.73e+01]    [9.51e+00, 1.09e+01, 1.65e+01, 1.03e+00, 5.35e+00, 7.72e+00, 7.16e+00, 2.10e+01, 4.73e+01]    []  \n",
            "10000     [1.22e+01, 9.72e+00, 1.96e+01, 6.45e-01, 2.95e+00, 8.38e+00, 7.51e+00, 2.20e+01, 4.58e+01]    [9.08e+00, 1.07e+01, 1.67e+01, 6.45e-01, 2.95e+00, 8.38e+00, 7.51e+00, 2.20e+01, 4.58e+01]    []  \n",
            "\n",
            "Best model at step 10000:\n",
            "  train loss: 1.29e+02\n",
            "  test loss: 1.24e+02\n",
            "  test metric: []\n",
            "\n",
            "'train' took 40.123236 s\n",
            "\n",
            "Estimated beta: 0.46142515540122986\n",
            "Compiling model...\n",
            "Warning: For the backend tensorflow.compat.v1, `external_trainable_variables` is ignored, and all trainable ``tf.Variable`` objects are automatically collected.\n",
            "Building feed-forward neural network...\n",
            "'build' took 0.059442 s\n",
            "\n"
          ]
        },
        {
          "output_type": "stream",
          "name": "stderr",
          "text": [
            "/usr/local/lib/python3.10/dist-packages/deepxde/nn/tensorflow_compat_v1/fnn.py:116: UserWarning: `tf.layers.dense` is deprecated and will be removed in a future version. Please use `tf.keras.layers.Dense` instead.\n",
            "  return tf.layers.dense(\n"
          ]
        },
        {
          "output_type": "stream",
          "name": "stdout",
          "text": [
            "'compile' took 3.049024 s\n",
            "\n",
            "Training model...\n",
            "\n",
            "Step      Train loss                                                                                    Test loss                                                                                     Test metric\n",
            "0         [3.57e-01, 2.62e-03, 8.95e-05, 6.84e+03, 1.88e+05, 2.22e+05, 1.62e+03, 1.06e+05, 4.12e+05]    [3.57e-01, 2.62e-03, 8.50e-05, 6.84e+03, 1.88e+05, 2.22e+05, 1.62e+03, 1.06e+05, 4.12e+05]    []  \n",
            "1000      [1.80e+02, 5.87e+01, 9.83e+01, 3.43e+01, 4.80e+01, 3.90e+01, 2.83e+02, 9.30e+01, 1.33e+02]    [1.24e+02, 4.36e+01, 5.15e+01, 3.43e+01, 4.80e+01, 3.90e+01, 2.83e+02, 9.30e+01, 1.33e+02]    []  \n",
            "2000      [5.21e+01, 9.60e+01, 1.25e+02, 5.90e+00, 5.14e-01, 3.97e-01, 4.62e+01, 2.68e+01, 3.98e+01]    [3.57e+01, 5.97e+01, 7.80e+01, 5.90e+00, 5.14e-01, 3.97e-01, 4.62e+01, 2.68e+01, 3.98e+01]    []  \n",
            "3000      [4.87e+01, 8.67e+01, 1.26e+02, 5.70e+00, 5.89e-01, 4.31e-01, 4.60e+01, 2.28e+01, 3.14e+01]    [3.49e+01, 5.41e+01, 8.04e+01, 5.70e+00, 5.89e-01, 4.31e-01, 4.60e+01, 2.28e+01, 3.14e+01]    []  \n",
            "4000      [3.95e+01, 6.30e+01, 1.12e+02, 4.38e+00, 1.05e+00, 1.12e-02, 4.29e+01, 2.17e+01, 1.97e+01]    [2.97e+01, 4.07e+01, 7.24e+01, 4.38e+00, 1.05e+00, 1.12e-02, 4.29e+01, 2.17e+01, 1.97e+01]    []  \n",
            "5000      [1.77e+01, 4.73e+01, 6.01e+01, 1.94e-01, 5.33e-03, 1.05e+00, 2.56e+01, 9.27e+00, 2.96e+01]    [1.55e+01, 3.52e+01, 4.93e+01, 1.94e-01, 5.33e-03, 1.05e+00, 2.56e+01, 9.27e+00, 2.96e+01]    []  \n",
            "6000      [5.39e+00, 3.73e+01, 2.52e+01, 8.20e+00, 5.05e+01, 1.80e-01, 2.54e+01, 1.59e+02, 5.45e+01]    [3.83e+00, 2.21e+01, 2.13e+01, 8.20e+00, 5.05e+01, 1.80e-01, 2.54e+01, 1.59e+02, 5.45e+01]    []  \n",
            "7000      [8.38e+00, 3.11e+01, 2.73e+01, 1.02e+00, 1.99e+00, 6.80e+00, 5.88e+00, 1.66e+01, 4.01e+01]    [5.77e+00, 1.47e+01, 2.33e+01, 1.02e+00, 1.99e+00, 6.80e+00, 5.88e+00, 1.66e+01, 4.01e+01]    []  \n",
            "8000      [8.21e+00, 2.26e+01, 2.67e+01, 9.62e-01, 1.97e+00, 6.79e+00, 5.83e+00, 1.67e+01, 4.04e+01]    [5.69e+00, 1.30e+01, 2.29e+01, 9.62e-01, 1.97e+00, 6.79e+00, 5.83e+00, 1.67e+01, 4.04e+01]    []  \n",
            "9000      [7.87e+00, 8.59e+00, 2.60e+01, 9.40e-01, 1.95e+00, 6.89e+00, 5.68e+00, 1.67e+01, 4.04e+01]    [5.47e+00, 8.82e+00, 2.22e+01, 9.40e-01, 1.95e+00, 6.89e+00, 5.68e+00, 1.67e+01, 4.04e+01]    []  \n",
            "10000     [7.95e+00, 7.93e+00, 2.49e+01, 1.01e+00, 2.19e+00, 7.08e+00, 5.41e+00, 1.59e+01, 3.91e+01]    [5.50e+00, 8.26e+00, 2.10e+01, 1.01e+00, 2.19e+00, 7.08e+00, 5.41e+00, 1.59e+01, 3.91e+01]    []  \n",
            "\n",
            "Best model at step 10000:\n",
            "  train loss: 1.12e+02\n",
            "  test loss: 1.06e+02\n",
            "  test metric: []\n",
            "\n",
            "'train' took 46.890767 s\n",
            "\n",
            "Estimated beta: 0.5026448369026184\n",
            "Compiling model...\n",
            "Warning: For the backend tensorflow.compat.v1, `external_trainable_variables` is ignored, and all trainable ``tf.Variable`` objects are automatically collected.\n",
            "Building feed-forward neural network...\n",
            "'build' took 0.059350 s\n",
            "\n"
          ]
        },
        {
          "output_type": "stream",
          "name": "stderr",
          "text": [
            "/usr/local/lib/python3.10/dist-packages/deepxde/nn/tensorflow_compat_v1/fnn.py:116: UserWarning: `tf.layers.dense` is deprecated and will be removed in a future version. Please use `tf.keras.layers.Dense` instead.\n",
            "  return tf.layers.dense(\n"
          ]
        },
        {
          "output_type": "stream",
          "name": "stdout",
          "text": [
            "'compile' took 3.111655 s\n",
            "\n",
            "Training model...\n",
            "\n",
            "Step      Train loss                                                                                    Test loss                                                                                     Test metric\n",
            "0         [2.67e-01, 2.15e-01, 4.95e-01, 7.13e+03, 1.65e+05, 2.47e+05, 2.81e+03, 8.96e+04, 4.20e+05]    [2.67e-01, 2.14e-01, 4.95e-01, 7.13e+03, 1.65e+05, 2.47e+05, 2.81e+03, 8.96e+04, 4.20e+05]    []  \n",
            "1000      [5.46e+02, 5.57e+02, 1.85e+02, 5.43e+02, 1.03e+04, 3.47e+02, 6.51e+02, 1.47e+04, 6.19e+02]    [5.43e+02, 5.57e+02, 1.82e+02, 5.43e+02, 1.03e+04, 3.47e+02, 6.51e+02, 1.47e+04, 6.19e+02]    []  \n",
            "2000      [1.14e+01, 1.06e+01, 3.74e+01, 7.97e-01, 8.04e+00, 1.59e+00, 2.04e+01, 4.08e+01, 6.67e+01]    [9.73e+00, 1.02e+01, 3.22e+01, 7.97e-01, 8.04e+00, 1.59e+00, 2.04e+01, 4.08e+01, 6.67e+01]    []  \n",
            "3000      [8.96e+00, 6.60e+00, 3.05e+01, 1.90e+00, 1.19e-01, 1.24e+00, 1.10e+01, 7.96e+01, 5.54e+01]    [7.69e+00, 6.69e+00, 2.58e+01, 1.90e+00, 1.19e-01, 1.24e+00, 1.10e+01, 7.96e+01, 5.54e+01]    []  \n",
            "4000      [9.06e+00, 4.85e+00, 2.50e+01, 2.06e-02, 1.06e+01, 5.03e+00, 6.99e+00, 3.48e+01, 4.27e+01]    [7.69e+00, 4.91e+00, 2.09e+01, 2.06e-02, 1.06e+01, 5.03e+00, 6.99e+00, 3.48e+01, 4.27e+01]    []  \n",
            "5000      [9.88e+00, 5.24e+00, 2.32e+01, 7.91e-01, 2.32e+01, 8.00e+00, 7.16e+00, 2.67e+01, 3.88e+01]    [8.32e+00, 4.97e+00, 1.97e+01, 7.91e-01, 2.32e+01, 8.00e+00, 7.16e+00, 2.67e+01, 3.88e+01]    []  \n",
            "6000      [9.45e+00, 1.18e+01, 2.16e+01, 1.27e-02, 5.17e+00, 7.02e+00, 6.18e+00, 3.10e+01, 4.02e+01]    [7.85e+00, 7.43e+00, 1.83e+01, 1.27e-02, 5.17e+00, 7.02e+00, 6.18e+00, 3.10e+01, 4.02e+01]    []  \n",
            "7000      [9.47e+00, 1.16e+01, 2.15e+01, 9.38e-02, 7.75e+00, 5.20e+00, 6.09e+00, 2.81e+01, 4.26e+01]    [7.87e+00, 8.26e+00, 1.83e+01, 9.38e-02, 7.75e+00, 5.20e+00, 6.09e+00, 2.81e+01, 4.26e+01]    []  \n",
            "8000      [9.75e+00, 1.46e+01, 2.20e+01, 2.25e-01, 9.34e+00, 8.52e+00, 6.13e+00, 2.71e+01, 3.89e+01]    [8.05e+00, 8.69e+00, 1.86e+01, 2.25e-01, 9.34e+00, 8.52e+00, 6.13e+00, 2.71e+01, 3.89e+01]    []  \n",
            "9000      [1.15e+01, 1.01e+01, 2.43e+01, 5.80e+00, 7.66e+01, 1.09e+01, 1.13e+01, 5.60e+01, 3.71e+01]    [9.52e+00, 7.93e+00, 2.12e+01, 5.80e+00, 7.66e+01, 1.09e+01, 1.13e+01, 5.60e+01, 3.71e+01]    []  \n",
            "10000     [8.39e+00, 1.47e+01, 3.16e+01, 6.19e-01, 1.10e+00, 5.08e+00, 3.64e+00, 1.49e+01, 3.14e+01]    [6.54e+00, 1.38e+01, 2.76e+01, 6.19e-01, 1.10e+00, 5.08e+00, 3.64e+00, 1.49e+01, 3.14e+01]    []  \n",
            "\n",
            "Best model at step 10000:\n",
            "  train loss: 1.11e+02\n",
            "  test loss: 1.05e+02\n",
            "  test metric: []\n",
            "\n",
            "'train' took 44.993852 s\n",
            "\n",
            "Estimated beta: 0.5514572858810425\n"
          ]
        }
      ],
      "source": [
        "# Define the geometry\n",
        "for ti in range(0,t_max):\n",
        "  if ti <= dt:\n",
        "    t_under = 0\n",
        "    t_upper = dt\n",
        "    geom = dde.geometry.TimeDomain(t_under, t_upper)\n",
        "  elif ti > dt:\n",
        "    t_under = ti-dt\n",
        "    t_upper = ti\n",
        "    geom = dde.geometry.TimeDomain(t_under, t_upper)\n",
        "\n",
        "  # Define initial conditions for the PDE model\n",
        "  def boundary_init(t, on_initial):\n",
        "      return on_initial\n",
        "\n",
        "  ic1 = dde.icbc.IC(geom, lambda X: S_data[t_under], boundary_init, component=0)\n",
        "  ic2 = dde.icbc.IC(geom, lambda X: I_data[t_under], boundary_init, component=1)\n",
        "  ic3 = dde.icbc.IC(geom, lambda X: R_data[t_under], boundary_init, component=2)\n",
        "\n",
        "  # Define the ODE system with time-dependent beta(t)\n",
        "  def ode(t, u):\n",
        "      S = u[:, 0:1]\n",
        "      I = u[:, 1:2]\n",
        "      R = u[:, 2:3]\n",
        "\n",
        "      dS_t = dde.grad.jacobian(u, t, i=0)\n",
        "      dI_t = dde.grad.jacobian(u, t, i=1)\n",
        "      dR_t = dde.grad.jacobian(u, t, i=2)\n",
        "\n",
        "      beta_t_value = beta_t(t)\n",
        "      # alpha_t_value = alpha_t(t)\n",
        "\n",
        "      ode1 = dS_t - (- beta_t_value * S * I / N0)\n",
        "      ode2 = dI_t - (beta_t_value * S * I / N0 - alpha_init * I)\n",
        "      ode3 = dR_t - (alpha_init * I)\n",
        "\n",
        "      return [ode1, ode2, ode3]\n",
        "\n",
        "\n",
        "  # Create data object, including the true solution as training data\n",
        "  observe_u1 = dde.icbc.PointSetBC(t_data[t_under:t_upper], S_data[t_under:t_upper, None], component=0)\n",
        "  observe_u2 = dde.icbc.PointSetBC(t_data[t_under:t_upper], I_data[t_under:t_upper, None], component=1)\n",
        "  observe_u3 = dde.icbc.PointSetBC(t_data[t_under:t_upper], R_data[t_under:t_upper, None], component=2)\n",
        "\n",
        "  data = dde.data.TimePDE(\n",
        "      geom,\n",
        "      ode,\n",
        "      [ic1, ic2, ic3, observe_u1, observe_u2, observe_u3],\n",
        "      num_domain=5000,\n",
        "      num_boundary=500,\n",
        "      num_test=1000)\n",
        "\n",
        "  # Define the neural network for the ODE system\n",
        "  layer_size = [1] + [20] * 3 + [3]\n",
        "  activation = \"relu\"\n",
        "  initializer = \"LeCun normal\"\n",
        "  net_ode = dde.maps.FNN(layer_size, activation, initializer)\n",
        "\n",
        "  # Combine the two networks\n",
        "  model = dde.Model(data, net_ode)\n",
        "\n",
        "  # Trainable variable\n",
        "  external_trainable_variables = [beta]\n",
        "  variable = dde.callbacks.VariableValue(\n",
        "      external_trainable_variables, period=600, filename=\"variables.dat\"\n",
        "  )\n",
        "\n",
        "  # Train the model using Adam optimizer\n",
        "  model.compile(\"adam\", lr=1e-2, external_trainable_variables=external_trainable_variables)\n",
        "  losshistory, train_state = model.train(iterations=10000, callbacks=[variable])\n",
        "\n",
        "  # Evaluate the model on the test data\n",
        "  beta_est = model.sess.run(beta)\n",
        "  beta_pred[ti] = beta_est\n",
        "  # alpha_est = model.sess.run(alpha)\n",
        "  # alpha_pred[ti] = alpha_est\n",
        "  print(f\"Estimated beta: {beta_est}\")\n",
        "  # print(f\"Estimated alpha: {alpha_est}\")"
      ]
    },
    {
      "cell_type": "code",
      "source": [
        "dde.saveplot(losshistory, train_state, issave=False, isplot=True)\n",
        "\n",
        "# Plot beta(t)\n",
        "plt.figure(figsize=(6, 4))\n",
        "plt.plot(t_data, beta_pred, 'm-', label='beta(t)', linewidth=2)\n",
        "plt.xlabel(\"Time\")\n",
        "plt.ylabel(\"Beta(t)\")\n",
        "plt.title(\"Estimated Beta(t) over Time\")\n",
        "plt.legend()\n",
        "plt.grid(True)\n",
        "plt.show()"
      ],
      "metadata": {
        "colab": {
          "base_uri": "https://localhost:8080/",
          "height": 1000
        },
        "id": "y0Ilxz40bfpj",
        "outputId": "db7519e5-cadd-45a1-e1cd-7c01c02ef8ae"
      },
      "execution_count": null,
      "outputs": [
        {
          "output_type": "display_data",
          "data": {
            "text/plain": [
              "<Figure size 640x480 with 1 Axes>"
            ],
            "image/png": "[encoded data removed]"
          },
          "metadata": {}
        },
        {
          "output_type": "display_data",
          "data": {
            "text/plain": [
              "<Figure size 640x480 with 1 Axes>"
            ],
            "image/png": "[encoded data removed]"
          },
          "metadata": {}
        },
        {
          "output_type": "display_data",
          "data": {
            "text/plain": [
              "<Figure size 600x400 with 1 Axes>"
            ],
            "image/png": "[encoded data removed]"
          },
          "metadata": {}
        }
      ]
    }
  ],
  "metadata": {
    "accelerator": "GPU",
    "colab": {
      "gpuType": "T4",
      "provenance": []
    },
    "kernelspec": {
      "display_name": "Python 3",
      "name": "python3"
    },
    "language_info": {
      "name": "python"
    }
  },
  "nbformat": 4,
  "nbformat_minor": 0
}